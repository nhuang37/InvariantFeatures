{
  "nbformat": 4,
  "nbformat_minor": 0,
  "metadata": {
    "colab": {
      "provenance": [],
      "machine_shape": "hm",
      "include_colab_link": true
    },
    "kernelspec": {
      "name": "python3",
      "display_name": "Python 3"
    },
    "language_info": {
      "name": "python"
    },
    "accelerator": "GPU",
    "gpuClass": "standard"
  },
  "cells": [
    {
      "cell_type": "markdown",
      "metadata": {
        "id": "view-in-github",
        "colab_type": "text"
      },
      "source": [
        "<a href=\"https://colab.research.google.com/github/nhuang37/ScalarModel/blob/main/Pointcloud_lightweight_clean.ipynb\" target=\"_parent\"><img src=\"https://colab.research.google.com/assets/colab-badge.svg\" alt=\"Open In Colab\"/></a>"
      ]
    },
    {
      "cell_type": "markdown",
      "source": [
        "### Utils"
      ],
      "metadata": {
        "id": "24V0gbaJN9GZ"
      }
    },
    {
      "cell_type": "code",
      "source": [
        "from google.colab import drive\n",
        "drive.mount('/content/drive')"
      ],
      "metadata": {
        "id": "08gINYIyLDiS",
        "colab": {
          "base_uri": "https://localhost:8080/"
        },
        "outputId": "652347c9-e9ca-4535-bbd2-5af63c75add9"
      },
      "execution_count": 1,
      "outputs": [
        {
          "output_type": "stream",
          "name": "stdout",
          "text": [
            "Mounted at /content/drive\n"
          ]
        }
      ]
    },
    {
      "cell_type": "code",
      "source": [
        "!cd '/content/drive/MyDrive/JHU/Group'"
      ],
      "metadata": {
        "id": "e7IkgpUyLI8l"
      },
      "execution_count": 2,
      "outputs": []
    },
    {
      "cell_type": "code",
      "source": [
        "import os\n",
        "import torch\n",
        "os.environ['TORCH'] = torch.__version__\n",
        "print(torch.__version__)\n",
        "\n",
        "!pip install -q torch-scatter -f https://data.pyg.org/whl/torch-${TORCH}.html\n",
        "!pip install -q torch-sparse -f https://data.pyg.org/whl/torch-${TORCH}.html\n",
        "!pip install -q torch-cluster -f https://data.pyg.org/whl/torch-${TORCH}.html\n",
        "!pip install -q git+https://github.com/pyg-team/pytorch_geometric.git"
      ],
      "metadata": {
        "colab": {
          "base_uri": "https://localhost:8080/"
        },
        "id": "oUw8G1yLxYA6",
        "outputId": "8cbe7f8e-3564-4262-9cde-d65ba77f5203"
      },
      "execution_count": 3,
      "outputs": [
        {
          "output_type": "stream",
          "name": "stdout",
          "text": [
            "2.0.0+cu118\n",
            "\u001b[2K     \u001b[90m━━━━━━━━━━━━━━━━━━━━━━━━━━━━━━━━━━━━━━━━\u001b[0m \u001b[32m10.2/10.2 MB\u001b[0m \u001b[31m45.7 MB/s\u001b[0m eta \u001b[36m0:00:00\u001b[0m\n",
            "\u001b[2K     \u001b[90m━━━━━━━━━━━━━━━━━━━━━━━━━━━━━━━━━━━━━━━━\u001b[0m \u001b[32m4.8/4.8 MB\u001b[0m \u001b[31m48.6 MB/s\u001b[0m eta \u001b[36m0:00:00\u001b[0m\n",
            "\u001b[2K     \u001b[90m━━━━━━━━━━━━━━━━━━━━━━━━━━━━━━━━━━━━━━━━\u001b[0m \u001b[32m3.3/3.3 MB\u001b[0m \u001b[31m39.8 MB/s\u001b[0m eta \u001b[36m0:00:00\u001b[0m\n",
            "\u001b[?25h  Installing build dependencies ... \u001b[?25l\u001b[?25hdone\n",
            "  Getting requirements to build wheel ... \u001b[?25l\u001b[?25hdone\n",
            "  Preparing metadata (pyproject.toml) ... \u001b[?25l\u001b[?25hdone\n",
            "  Building wheel for torch_geometric (pyproject.toml) ... \u001b[?25l\u001b[?25hdone\n"
          ]
        }
      ]
    },
    {
      "cell_type": "markdown",
      "source": [
        "### (Invariant Regression) Benchmark dataset: [QM7b](https://pytorch-geometric.readthedocs.io/en/latest/generated/torch_geometric.datasets.QM7b.html)\n",
        "- Source: https://arxiv.org/pdf/1703.00564.pdf (Table 10)\n",
        "- A collection of 7,211 molecular graphs (i.e., represented as fully connected graphs describing the [Coulomb Matrix](https://singroup.github.io/dscribe/0.3.x/tutorials/coulomb_matrix.html#invariance), a $n \\times n$ symmetric matrix, invariant to translation/rotation, and requires models to be permutation invariant.\n",
        "- Task: predicting electronic\n",
        "properties of these molecule graphs\n",
        "- Note: molecules are graphs with varying sizes (deepset needed, see below)\n",
        "\n"
      ],
      "metadata": {
        "id": "5R-Yq6xXwHRd"
      }
    },
    {
      "cell_type": "code",
      "source": [
        "import os.path as osp \n",
        "import numpy as np\n",
        "import torch \n",
        "from torch_geometric.data import Data, InMemoryDataset\n",
        "from torch_geometric.loader import DataLoader\n",
        "from torch_geometric.datasets import TUDataset, zinc, QM7b\n",
        "from torch_geometric.utils import to_networkx, homophily, erdos_renyi_graph, stochastic_blockmodel_graph, scatter, loop\n",
        "from torch_geometric.nn import GINConv, global_mean_pool, global_add_pool\n",
        "from torch_geometric.nn.aggr import DeepSetsAggregation #key to implement DeepSet input (batch_features, batch_index)\n",
        "from torch_geometric.nn.models import MLP\n",
        "import torch.nn as nn\n",
        "from torch.nn import Linear, Sequential, ReLU, Dropout\n",
        "import torch_geometric.transforms as T\n",
        "import torch.nn.functional as F\n",
        "\n",
        "from sklearn.model_selection import KFold\n",
        "from sklearn.model_selection import train_test_split"
      ],
      "metadata": {
        "id": "bLpdxBHuxE53"
      },
      "execution_count": null,
      "outputs": []
    },
    {
      "cell_type": "code",
      "source": [
        "#step 1: pre-compute fs in dataset\n",
        "#step 2: modify collate_fn in dataloader to store the edge batch index\n",
        "\n",
        "def get_fs(data):\n",
        "  '''\n",
        "  input: Data (graph) from pytorch geometric dataset\n",
        "    edge_index=[num_edges]\n",
        "    edge_attr=[num_edges]\n",
        "    y=[num_targets]\n",
        "    x=[num_nodes, 1]\n",
        "\n",
        "  output: updated DataBatch with the following additional invariant features\n",
        "   f_d is the set of diagonal edge attributes, \n",
        "   f_o is the set of off-diagonal (upper) edge attributes, \n",
        "   f_star is \\sum_{i \\neq j} X_ii X_ij where X is the n by n edge attribute graph\n",
        "  '''\n",
        "  #get f_d, f_o\n",
        "  loop_mask = data.edge_index[0] == data.edge_index[1]\n",
        "  data.f_d = data.edge_attr[loop_mask].unsqueeze(1)\n",
        "  data.f_o = data.edge_attr[~loop_mask].unsqueeze(1)\n",
        "\n",
        "  #get f_star\n",
        "  sum_fo = scatter(data.edge_attr, data.edge_index[1], dim=0) #sum over rows \n",
        "  data.f_star = (data.f_d.squeeze(1) @ ( sum_fo - data.f_d.squeeze(1))).reshape((1,1))\n",
        "  return data\n"
      ],
      "metadata": {
        "id": "1XYRugSLg3JU"
      },
      "execution_count": null,
      "outputs": []
    },
    {
      "cell_type": "code",
      "source": [
        "#The kernel trick that projects a scalar to higher-dimensional space\n",
        "#src: https://arxiv.org/pdf/1305.7074.pdf, Appendix B\n",
        "def binary_expansion(f, num_radial, theta=1):\n",
        "  '''\n",
        "  input: f (bs x 1); num_radial - number of basis expansion\n",
        "  output: phi(f) (bs x num_radial)\n",
        "  phi(f) = [..., sigmoid(f-theta/theta), sigmoid(f/theta), sigmoid(f+theta/thera),...]\n",
        "  '''\n",
        "  bs = f.shape[0]\n",
        "  out = torch.zeros((bs, num_radial))\n",
        "  max_val = (num_radial - 1)//2\n",
        "  offsets = np.arange(start=-max_val, stop=max_val+1)\n",
        "  for i, offset in enumerate(offsets):\n",
        "    out[:, i:(i+1)] = F.sigmoid( (f - theta*offset) / theta )\n",
        "  return out\n",
        "\n",
        "def get_binary_expansion(data, num_radial=1000, theta=1):\n",
        "  '''\n",
        "  Apply binary_expansion for all fs\n",
        "  try: num_radial \\in {100, 1000}\n",
        "  '''\n",
        "  #print(f\"num_basis={num_radial}\")\n",
        "  data.f_d = binary_expansion(data.f_d, num_radial, theta)\n",
        "  data.f_o = binary_expansion(data.f_o, num_radial, theta)\n",
        "  data.f_star = binary_expansion(data.f_star, num_radial, theta)\n",
        "  return data\n"
      ],
      "metadata": {
        "id": "gOxJNC2WBtWT"
      },
      "execution_count": 4,
      "outputs": []
    },
    {
      "cell_type": "code",
      "source": [
        "%%time\n",
        "target=0\n",
        "\n",
        "class Univariate(object):\n",
        "    def __call__(self, data):\n",
        "        # Specify target.\n",
        "        data.y = data.y[:, target:(target+1)]\n",
        "        return data\n",
        "\n",
        "#path = \"/content/drive/MyDrive/JHU/Group/dataset\"\n",
        "path = \"/content/drive/MyDrive/JHU/Group/dataset_basis\"\n",
        "\n",
        "\n",
        "dataset = QM7b(path, pre_transform=T.Compose([get_fs, get_binary_expansion]), \n",
        "               transform=T.Compose([Univariate()]))\n",
        "dataset.name = \"QM7b\"\n"
      ],
      "metadata": {
        "id": "GWeom70niCpR",
        "colab": {
          "base_uri": "https://localhost:8080/"
        },
        "outputId": "e1cb32cd-5b4b-4b02-c547-b3574a6df8a9"
      },
      "execution_count": null,
      "outputs": [
        {
          "output_type": "stream",
          "name": "stdout",
          "text": [
            "CPU times: user 96.9 ms, sys: 333 ms, total: 430 ms\n",
            "Wall time: 3.33 s\n"
          ]
        }
      ]
    },
    {
      "cell_type": "code",
      "source": [
        "#try out edge batch\n",
        "loader = DataLoader(dataset, batch_size=2, follow_batch=['f_d', 'f_o']) #add the keys such that we need to create batch index pointers"
      ],
      "metadata": {
        "id": "HfDkhJyAu8h-"
      },
      "execution_count": null,
      "outputs": []
    },
    {
      "cell_type": "code",
      "source": [
        "for data in loader:\n",
        "  print(data)\n",
        "  break"
      ],
      "metadata": {
        "colab": {
          "base_uri": "https://localhost:8080/"
        },
        "id": "CEEAXlmlvn8Q",
        "outputId": "2991d8f2-4231-4172-bbec-ff9ae0928145"
      },
      "execution_count": null,
      "outputs": [
        {
          "output_type": "stream",
          "name": "stdout",
          "text": [
            "DataBatch(edge_index=[2, 89], edge_attr=[89], y=[2, 1], f_d=[13, 100], f_d_batch=[13], f_d_ptr=[3], f_o=[76, 100], f_o_batch=[76], f_o_ptr=[3], f_star=[2, 100], num_nodes=13, batch=[13], ptr=[3])\n"
          ]
        }
      ]
    },
    {
      "cell_type": "code",
      "source": [
        "#check QM7b graph size profile\n",
        "sizes = []\n",
        "for data in dataset:\n",
        "  sizes.append(data.num_nodes)\n"
      ],
      "metadata": {
        "id": "UJ8NHd_H1ZTw"
      },
      "execution_count": null,
      "outputs": []
    },
    {
      "cell_type": "code",
      "source": [
        "plt.hist(sizes)\n",
        "plt.xlabel(\"size of molecules\")\n",
        "plt.title(\"QM7b graph size distribution\")\n",
        "plt.show()"
      ],
      "metadata": {
        "colab": {
          "base_uri": "https://localhost:8080/",
          "height": 472
        },
        "id": "3fhfrgFmkf6n",
        "outputId": "b9c0e583-7e58-43e1-a9c4-6faa6bed145b"
      },
      "execution_count": null,
      "outputs": [
        {
          "output_type": "display_data",
          "data": {
            "text/plain": [
              "<Figure size 640x480 with 1 Axes>"
            ],
            "image/png": "[encoded data removed]"
          },
          "metadata": {}
        }
      ]
    },
    {
      "cell_type": "markdown",
      "source": [
        "### Model\n",
        "- Invariant feature map/extraction: $X \\to (\\{f^d \\}, \\{f^o \\}, f^*)$\n",
        "- Learn MLP(deep_set_1( $\\{f^d \\}$ , deep_set_2($\\{f^d \\}$), MLP_s($f^*$)), where\n",
        "  - deep_set_i, MLP_s: input_dim = 1, output_dim = hid_dim\n",
        "  - MLP: input_dim = hid_dim + hid_dim + hid_dim, output_dim = num_classes (invariant classification) / 1 (invariant scalar regression)\n",
        "- Deepset, proposed in [Zaheer et al. ](https://arxiv.org/pdf/1703.06114.pdf), can universally approximate continuous functions on sets (where elements are from countable domain), by choosing suitable $\\rho, \\phi$, and maps a input set $X$ via\n",
        "$$\n",
        "\\rho ( \\sum_{x \\in X} \\phi(x) )\n",
        "$$\n",
        "We use the Deepset implementation in Pytorch Geometric, which can apply to batch of sets\n",
        "\n",
        "WHY ARE WE BETTER?\n",
        "- using Deepset to deal with the varying-size problem (not ad-hoc zero padding), which also minimizes memory storage and much lightweight\n",
        "- only using 100 binary expansion (basis), also comparatively lightweight (few) compared to SOTA while giving good results\n",
        "- [TBC] few-shot learning / low sample complexity"
      ],
      "metadata": {
        "id": "wVnZ53JAWJzW"
      }
    },
    {
      "cell_type": "code",
      "source": [
        "class ScalarModel(torch.nn.Module):\n",
        "    def __init__(self, hid_dim, out_dim, dropout=0, input_dim=1):\n",
        "        super(ScalarModel, self).__init__()\n",
        "        #Deepset for diagonal scalars\n",
        "        phi_d = MLP([input_dim,hid_dim, hid_dim*2], dropout=[dropout]*2)\n",
        "        rho_d = MLP([hid_dim*2, hid_dim], dropout=[dropout]*1) #MLP([hid_dim*2, hid_dim, hid_dim], dropout=[dropout]*2) #\n",
        "        self.deepset_d = DeepSetsAggregation(local_nn=phi_d, global_nn=rho_d)\n",
        "        #Deepset for off-diagonal scalars\n",
        "        phi_o = MLP([input_dim,hid_dim, hid_dim*2], dropout=[dropout]*2)\n",
        "        rho_o = MLP([hid_dim*2, hid_dim], dropout=[dropout]*1) #MLP([hid_dim*2, hid_dim, hid_dim], dropout=[dropout]*2) \n",
        "        self.deepset_o = DeepSetsAggregation(local_nn=phi_o, global_nn=rho_o) \n",
        "        #MLP_s for f_star\n",
        "        self.MLP_s = MLP([input_dim,hid_dim, hid_dim], dropout=[dropout]*2)  #MLP([1,hid_dim*2, hid_dim], dropout=[dropout]*2) #\n",
        "        #MLP for (Deepset(f_d), Deepset(f_o), f_star)\n",
        "        self.MLP_out = MLP([hid_dim*3, hid_dim, out_dim], dropout=[dropout]*2)\n",
        "\n",
        "    def reset_parameters(self):\n",
        "        for net in [self.deepset_d, self.deepset_o, self.MLP_s, self.MLP_out]:\n",
        "        #for net in [self.deepset_d, self.deepset_o, self.MLP_out]:\n",
        "            net.reset_parameters()\n",
        "    \n",
        "    def forward(self, data):\n",
        "        out_d = self.deepset_d(data.f_d, data.f_d_batch) # bs x hid_dim\n",
        "        out_o = self.deepset_o(data.f_o, data.f_o_batch) # bs x hid_dim\n",
        "        out_star = self.MLP_s(data.f_star) #bs x hid_dim\n",
        "        #concat and output final embedding\n",
        "        out = self.MLP_out(torch.concat([out_d, out_o, out_star], dim=-1)) # bs x hid_dim*3 -> bs x out_dim\n",
        "        return out"
      ],
      "metadata": {
        "id": "-up-LvBGQQE4"
      },
      "execution_count": null,
      "outputs": []
    },
    {
      "cell_type": "markdown",
      "source": [
        "#### Training"
      ],
      "metadata": {
        "id": "L8o9Z-S0WWON"
      }
    },
    {
      "cell_type": "code",
      "source": [
        "#code adapated from https://github.com/nhuang37/untrain_MPNN/blob/main/GNN_untrained/auxiliarymethods/gnn_evaluation.py\n",
        "\n",
        "def train(train_loader, model, optimizer, device):\n",
        "    model.train()\n",
        "    loss_all = 0\n",
        "\n",
        "    lf = torch.nn.L1Loss()\n",
        "\n",
        "    for data in train_loader:\n",
        "        #print(data)\n",
        "        data = data.to(device)\n",
        "        optimizer.zero_grad()\n",
        "        loss = lf(model(data), data.y)\n",
        "\n",
        "        loss.backward()\n",
        "        loss_all += loss.item() * data.num_graphs\n",
        "        optimizer.step()\n",
        "    return (loss_all / len(train_loader.dataset))\n",
        "\n",
        "\n",
        "def test(loader, model, device, per_target=False):\n",
        "    model.eval()\n",
        "    out_dim = model.MLP_out.channel_list[-1]\n",
        "    if per_target:\n",
        "      error_pt = torch.zeros(out_dim)\n",
        "    error = 0\n",
        "\n",
        "    for data in loader:\n",
        "        data = data.to(device)\n",
        "        error_multi = (model(data) - data.y).abs()\n",
        "        if per_target:\n",
        "          error_pt += error_multi.sum(axis=0).cpu()\n",
        "\n",
        "        error += error_multi.sum().item()\n",
        "    if per_target:\n",
        "      return error / len(loader.dataset), error_pt / len(loader.dataset)\n",
        "    else:\n",
        "      return error / len(loader.dataset), None\n",
        "\n",
        "\n",
        "# 10-CV for NN training and hyperparameter selection.\n",
        "def nn_evaluation(dataset, hid_dim, out_dim, max_num_epochs=200, batch_size=128, start_lr=0.01, min_lr = 0.000001, factor=0.5, patience=50,\n",
        "                       num_repetitions=5, all_std=True, verbose=True, dropout=0, per_target=False):\n",
        "    #reproducibility\n",
        "    torch.manual_seed(0)\n",
        "\n",
        "    # Set device.\n",
        "    device = torch.device('cuda' if torch.cuda.is_available() else 'cpu')\n",
        "\n",
        "    test_all = []\n",
        "    test_complete = []\n",
        "\n",
        "    # Input dim\n",
        "    input_dim = dataset.data.f_star.shape[1]\n",
        "    print(input_dim)\n",
        "\n",
        "    for i in range(num_repetitions):\n",
        "        # Test acc. over all folds.\n",
        "        test_error = []\n",
        "        kf = KFold(n_splits=10, shuffle=True, random_state=i)\n",
        "        #dataset.shuffle()\n",
        "\n",
        "        for train_index, test_index in kf.split(list(range(len(dataset)))):\n",
        "            # Sample 10% split from training split for validation.\n",
        "            train_index, val_index = train_test_split(train_index, test_size=0.1, random_state=i)\n",
        "            best_val_error = None\n",
        "            best_test = None\n",
        "\n",
        "            # Split data.\n",
        "            train_dataset = dataset[train_index.tolist()]\n",
        "            val_dataset = dataset[val_index.tolist()]\n",
        "            test_dataset = dataset[test_index.tolist()]\n",
        "\n",
        "            # Prepare batching. (follow_batch: batchify both f_d, f_o)\n",
        "            train_loader = DataLoader(train_dataset, batch_size=batch_size, shuffle=True, follow_batch=['f_d', 'f_o'])\n",
        "            val_loader = DataLoader(val_dataset, batch_size=batch_size, shuffle=True, follow_batch=['f_d', 'f_o'])\n",
        "            test_loader = DataLoader(test_dataset, batch_size=batch_size, shuffle=False, follow_batch=['f_d', 'f_o']) #reproducible\n",
        "\n",
        "            # Collect val. and test acc. over all hyperparameter combinations.\n",
        "            # Setup model.\n",
        "            model = ScalarModel(hid_dim, out_dim, dropout, input_dim).to(device)\n",
        "            #model = ScalarModel_Bessel(hid_dim, out_dim, dropout).to(device)\n",
        "            model.reset_parameters()\n",
        "\n",
        "            optimizer = torch.optim.Adam(model.parameters(), lr=start_lr)\n",
        "            scheduler = torch.optim.lr_scheduler.ReduceLROnPlateau(optimizer, mode='min',\n",
        "                                                                    factor=factor, patience=patience,\n",
        "                                                                    min_lr=0.0000001)\n",
        "            for epoch in range(1, max_num_epochs + 1):\n",
        "                lr = scheduler.optimizer.param_groups[0]['lr']\n",
        "                loss = train(train_loader, model, optimizer, device)\n",
        "                val_error, val_pt = test(val_loader, model, device, per_target)\n",
        "                scheduler.step(val_error)\n",
        "\n",
        "                if best_val_error is None or val_error <= best_val_error:\n",
        "                    best_val_error = val_error\n",
        "                    best_test, test_pt = test(test_loader, model, device, per_target)\n",
        "                if verbose and (epoch+1) % 50 == 0:\n",
        "                    print('Epoch: {:03d}, LR: {:.7f}, Loss: {:.4f},'\n",
        "                      'Val MAE: {:.4f}'.format(epoch, lr, loss, val_error))\n",
        "                # Break if learning rate is smaller 10**-6.\n",
        "                if lr < min_lr:\n",
        "                    break\n",
        "            if per_target:\n",
        "                print(f\"per_target Val MAE = {val_pt}\")\n",
        "            test_error.append(best_test)\n",
        "            print(f\"Finish run with best_test={best_test:.4f}\")\n",
        "            if all_std:\n",
        "                test_complete.append(best_test)\n",
        "        test_all.append(float(np.array(test_error).mean()))\n",
        "\n",
        "    if all_std:\n",
        "        return (np.array(test_all).mean(), np.array(test_all).std(),\n",
        "                np.array(test_complete).std())\n",
        "    else:\n",
        "        return (np.array(test_all).mean(), np.array(test_all).std())"
      ],
      "metadata": {
        "id": "d2ssWTYuWXO7"
      },
      "execution_count": null,
      "outputs": []
    },
    {
      "cell_type": "code",
      "source": [
        "#Note: the basis transform scales linearly with the number of basis"
      ],
      "metadata": {
        "id": "kvOg9Nq4l8o-"
      },
      "execution_count": null,
      "outputs": []
    },
    {
      "cell_type": "code",
      "source": [
        "hid_dim = 512\n",
        "out_dim = 1 #14\n",
        "dropout = 0\n",
        "batch_size = 128\n",
        "max_num_epochs = 1000\n",
        "min_lr = 0.0000001 #UPDATED\n",
        "patience = 20 #UPDATED\n",
        "mae, std, std_all = nn_evaluation(dataset, hid_dim, out_dim, batch_size=batch_size, max_num_epochs=max_num_epochs, \n",
        "                                  start_lr=0.02, min_lr = min_lr, factor=0.8, patience=patience,\n",
        "                       num_repetitions=1, all_std=True, verbose=True, dropout=dropout)"
      ],
      "metadata": {
        "colab": {
          "base_uri": "https://localhost:8080/"
        },
        "id": "kXsuuVj2jrNZ",
        "outputId": "aadf4dd4-d08f-48a8-a594-fba69d8bea1c"
      },
      "execution_count": null,
      "outputs": [
        {
          "output_type": "stream",
          "name": "stdout",
          "text": [
            "100\n",
            "Epoch: 049, LR: 0.0200000, Loss: 25.3624,Val MAE: 14.6548\n",
            "Epoch: 099, LR: 0.0128000, Loss: 24.1583,Val MAE: 132.6890\n",
            "Epoch: 149, LR: 0.0081920, Loss: 25.1029,Val MAE: 78.9177\n",
            "Epoch: 199, LR: 0.0052429, Loss: 20.9481,Val MAE: 21.1522\n",
            "Epoch: 249, LR: 0.0033554, Loss: 20.9012,Val MAE: 31.1724\n",
            "Epoch: 299, LR: 0.0021475, Loss: 19.0874,Val MAE: 16.5821\n",
            "Epoch: 349, LR: 0.0013744, Loss: 19.5101,Val MAE: 19.3185\n",
            "Epoch: 399, LR: 0.0010995, Loss: 20.3932,Val MAE: 14.3973\n",
            "Epoch: 449, LR: 0.0007037, Loss: 19.4771,Val MAE: 13.6790\n",
            "Epoch: 499, LR: 0.0004504, Loss: 17.5787,Val MAE: 26.0331\n",
            "Epoch: 549, LR: 0.0002882, Loss: 21.3642,Val MAE: 10.7732\n",
            "Epoch: 599, LR: 0.0001476, Loss: 19.0149,Val MAE: 8.4480\n",
            "Epoch: 649, LR: 0.0000944, Loss: 20.0332,Val MAE: 9.5044\n",
            "Epoch: 699, LR: 0.0000604, Loss: 17.6751,Val MAE: 8.5911\n",
            "Epoch: 749, LR: 0.0000484, Loss: 20.8252,Val MAE: 8.1631\n",
            "Epoch: 799, LR: 0.0000248, Loss: 20.3293,Val MAE: 7.9869\n",
            "Epoch: 849, LR: 0.0000158, Loss: 18.4630,Val MAE: 7.2925\n",
            "Epoch: 899, LR: 0.0000101, Loss: 20.8485,Val MAE: 8.7127\n",
            "Epoch: 949, LR: 0.0000065, Loss: 22.0089,Val MAE: 7.3627\n",
            "Epoch: 999, LR: 0.0000033, Loss: 20.2783,Val MAE: 7.6808\n",
            "Finish run with best_test=7.0370\n",
            "Epoch: 049, LR: 0.0160000, Loss: 25.3211,Val MAE: 561.9748\n",
            "Epoch: 099, LR: 0.0102400, Loss: 23.5713,Val MAE: 185.0672\n",
            "Epoch: 149, LR: 0.0052429, Loss: 23.8981,Val MAE: 75.8775\n",
            "Epoch: 199, LR: 0.0041943, Loss: 21.3440,Val MAE: 26.7986\n",
            "Epoch: 249, LR: 0.0026844, Loss: 24.3484,Val MAE: 249.1671\n",
            "Epoch: 299, LR: 0.0017180, Loss: 20.5426,Val MAE: 14.8116\n",
            "Epoch: 349, LR: 0.0008796, Loss: 22.5500,Val MAE: 41.8447\n",
            "Epoch: 399, LR: 0.0005629, Loss: 18.0172,Val MAE: 40.8702\n",
            "Epoch: 449, LR: 0.0003603, Loss: 19.6528,Val MAE: 30.3071\n",
            "Epoch: 499, LR: 0.0002306, Loss: 18.1803,Val MAE: 18.1334\n",
            "Epoch: 549, LR: 0.0001476, Loss: 18.3769,Val MAE: 7.8803\n",
            "Epoch: 599, LR: 0.0000944, Loss: 20.2427,Val MAE: 9.4590\n",
            "Epoch: 649, LR: 0.0000756, Loss: 20.2861,Val MAE: 8.2356\n",
            "Epoch: 699, LR: 0.0000387, Loss: 18.8108,Val MAE: 7.9803\n",
            "Epoch: 749, LR: 0.0000309, Loss: 20.6739,Val MAE: 8.9743\n",
            "Epoch: 799, LR: 0.0000158, Loss: 20.8738,Val MAE: 9.1349\n",
            "Epoch: 849, LR: 0.0000101, Loss: 20.9114,Val MAE: 7.5317\n",
            "Epoch: 899, LR: 0.0000065, Loss: 21.7900,Val MAE: 8.4259\n",
            "Epoch: 949, LR: 0.0000042, Loss: 21.4055,Val MAE: 7.7168\n",
            "Epoch: 999, LR: 0.0000027, Loss: 19.9202,Val MAE: 9.3541\n",
            "Finish run with best_test=7.8780\n",
            "Epoch: 049, LR: 0.0160000, Loss: 28.0618,Val MAE: 149.2925\n",
            "Epoch: 099, LR: 0.0102400, Loss: 26.9068,Val MAE: 66.5560\n",
            "Epoch: 149, LR: 0.0065536, Loss: 22.9923,Val MAE: 20.5945\n",
            "Epoch: 199, LR: 0.0041943, Loss: 22.1058,Val MAE: 24.1003\n",
            "Epoch: 249, LR: 0.0033554, Loss: 22.4210,Val MAE: 24.4251\n",
            "Epoch: 299, LR: 0.0021475, Loss: 23.8934,Val MAE: 52.5350\n",
            "Epoch: 349, LR: 0.0013744, Loss: 22.0819,Val MAE: 39.1420\n",
            "Epoch: 399, LR: 0.0008796, Loss: 19.8964,Val MAE: 54.6970\n",
            "Epoch: 449, LR: 0.0005629, Loss: 23.5469,Val MAE: 59.3372\n",
            "Epoch: 499, LR: 0.0003603, Loss: 19.9654,Val MAE: 20.7708\n",
            "Epoch: 549, LR: 0.0002882, Loss: 20.5241,Val MAE: 16.1352\n",
            "Epoch: 599, LR: 0.0001845, Loss: 18.1129,Val MAE: 16.2414\n",
            "Epoch: 649, LR: 0.0001181, Loss: 18.7551,Val MAE: 15.0138\n",
            "Epoch: 699, LR: 0.0000756, Loss: 19.1045,Val MAE: 7.9910\n",
            "Epoch: 749, LR: 0.0000484, Loss: 19.1945,Val MAE: 7.8015\n",
            "Epoch: 799, LR: 0.0000248, Loss: 20.8961,Val MAE: 8.9224\n",
            "Epoch: 849, LR: 0.0000158, Loss: 19.7893,Val MAE: 9.2607\n",
            "Epoch: 899, LR: 0.0000127, Loss: 19.7030,Val MAE: 7.8351\n",
            "Epoch: 949, LR: 0.0000065, Loss: 19.5239,Val MAE: 8.0047\n",
            "Epoch: 999, LR: 0.0000042, Loss: 22.0373,Val MAE: 8.0218\n",
            "Finish run with best_test=7.5479\n",
            "Epoch: 049, LR: 0.0160000, Loss: 27.8696,Val MAE: 56.4467\n",
            "Epoch: 099, LR: 0.0102400, Loss: 30.2310,Val MAE: 67.1815\n",
            "Epoch: 149, LR: 0.0065536, Loss: 26.0517,Val MAE: 307.2936\n",
            "Epoch: 199, LR: 0.0052429, Loss: 22.5158,Val MAE: 85.4766\n",
            "Epoch: 249, LR: 0.0026844, Loss: 21.7406,Val MAE: 18.0731\n",
            "Epoch: 299, LR: 0.0017180, Loss: 18.9896,Val MAE: 26.3433\n",
            "Epoch: 349, LR: 0.0010995, Loss: 20.4990,Val MAE: 46.6012\n",
            "Epoch: 399, LR: 0.0008796, Loss: 19.1231,Val MAE: 13.9010\n",
            "Epoch: 449, LR: 0.0004504, Loss: 22.9130,Val MAE: 17.6252\n",
            "Epoch: 499, LR: 0.0002882, Loss: 18.9469,Val MAE: 15.2362\n",
            "Epoch: 549, LR: 0.0002306, Loss: 19.8771,Val MAE: 10.6706\n",
            "Epoch: 599, LR: 0.0001476, Loss: 18.6019,Val MAE: 8.1080\n",
            "Epoch: 649, LR: 0.0000944, Loss: 20.2243,Val MAE: 10.4427\n",
            "Epoch: 699, LR: 0.0000604, Loss: 19.0569,Val MAE: 8.0769\n",
            "Epoch: 749, LR: 0.0000484, Loss: 19.5460,Val MAE: 9.0914\n",
            "Epoch: 799, LR: 0.0000248, Loss: 18.5339,Val MAE: 8.8315\n",
            "Epoch: 849, LR: 0.0000158, Loss: 19.3045,Val MAE: 9.0461\n",
            "Epoch: 899, LR: 0.0000127, Loss: 20.9645,Val MAE: 8.7770\n",
            "Epoch: 949, LR: 0.0000065, Loss: 20.2601,Val MAE: 8.3723\n",
            "Epoch: 999, LR: 0.0000042, Loss: 20.6099,Val MAE: 9.5331\n",
            "Finish run with best_test=7.9341\n",
            "Epoch: 049, LR: 0.0160000, Loss: 26.6640,Val MAE: 92.9398\n",
            "Epoch: 099, LR: 0.0102400, Loss: 25.0752,Val MAE: 102.3137\n",
            "Epoch: 149, LR: 0.0065536, Loss: 23.2687,Val MAE: 17.4222\n",
            "Epoch: 199, LR: 0.0041943, Loss: 24.6863,Val MAE: 99.2722\n",
            "Epoch: 249, LR: 0.0026844, Loss: 23.2112,Val MAE: 24.2121\n",
            "Epoch: 299, LR: 0.0017180, Loss: 23.1529,Val MAE: 48.7672\n",
            "Epoch: 349, LR: 0.0013744, Loss: 19.4841,Val MAE: 55.3509\n",
            "Epoch: 399, LR: 0.0008796, Loss: 19.1696,Val MAE: 8.5050\n",
            "Epoch: 449, LR: 0.0005629, Loss: 21.1513,Val MAE: 36.9317\n",
            "Epoch: 499, LR: 0.0003603, Loss: 18.5005,Val MAE: 8.9730\n",
            "Epoch: 549, LR: 0.0002306, Loss: 19.1482,Val MAE: 8.1996\n",
            "Epoch: 599, LR: 0.0001476, Loss: 20.3363,Val MAE: 16.6877\n",
            "Epoch: 649, LR: 0.0000944, Loss: 21.4589,Val MAE: 11.1265\n",
            "Epoch: 699, LR: 0.0000604, Loss: 19.2443,Val MAE: 8.0185\n",
            "Epoch: 749, LR: 0.0000387, Loss: 21.8687,Val MAE: 11.0045\n",
            "Epoch: 799, LR: 0.0000248, Loss: 21.2468,Val MAE: 7.6316\n",
            "Epoch: 849, LR: 0.0000158, Loss: 18.3501,Val MAE: 7.9971\n",
            "Epoch: 899, LR: 0.0000101, Loss: 19.9303,Val MAE: 9.9908\n",
            "Epoch: 949, LR: 0.0000065, Loss: 19.3022,Val MAE: 8.2334\n",
            "Epoch: 999, LR: 0.0000042, Loss: 21.7378,Val MAE: 8.7450\n",
            "Finish run with best_test=7.9065\n",
            "Epoch: 049, LR: 0.0160000, Loss: 23.4980,Val MAE: 353.2211\n",
            "Epoch: 099, LR: 0.0102400, Loss: 21.8567,Val MAE: 51.4939\n",
            "Epoch: 149, LR: 0.0065536, Loss: 24.2860,Val MAE: 86.9503\n",
            "Epoch: 199, LR: 0.0041943, Loss: 22.1372,Val MAE: 195.7241\n",
            "Epoch: 249, LR: 0.0026844, Loss: 22.3033,Val MAE: 107.3274\n",
            "Epoch: 299, LR: 0.0013744, Loss: 18.9557,Val MAE: 105.2244\n",
            "Epoch: 349, LR: 0.0010995, Loss: 19.6271,Val MAE: 87.2176\n",
            "Epoch: 399, LR: 0.0008796, Loss: 21.5095,Val MAE: 17.2810\n",
            "Epoch: 449, LR: 0.0004504, Loss: 20.5142,Val MAE: 41.6714\n",
            "Epoch: 499, LR: 0.0002882, Loss: 18.0278,Val MAE: 16.4171\n",
            "Epoch: 549, LR: 0.0002306, Loss: 19.0423,Val MAE: 32.3839\n",
            "Epoch: 599, LR: 0.0001476, Loss: 19.8146,Val MAE: 9.5371\n",
            "Epoch: 649, LR: 0.0000944, Loss: 17.4075,Val MAE: 15.0821\n",
            "Epoch: 699, LR: 0.0000604, Loss: 20.9291,Val MAE: 8.1503\n",
            "Epoch: 749, LR: 0.0000604, Loss: 19.0286,Val MAE: 7.9368\n",
            "Epoch: 799, LR: 0.0000387, Loss: 21.3638,Val MAE: 8.8448\n",
            "Epoch: 849, LR: 0.0000248, Loss: 20.7581,Val MAE: 8.8029\n",
            "Epoch: 899, LR: 0.0000158, Loss: 18.9763,Val MAE: 9.8630\n",
            "Epoch: 949, LR: 0.0000101, Loss: 20.1954,Val MAE: 8.4302\n",
            "Epoch: 999, LR: 0.0000052, Loss: 20.9075,Val MAE: 8.1749\n",
            "Finish run with best_test=7.6079\n",
            "Epoch: 049, LR: 0.0160000, Loss: 29.4866,Val MAE: 74.6634\n",
            "Epoch: 099, LR: 0.0128000, Loss: 25.3387,Val MAE: 395.6588\n",
            "Epoch: 149, LR: 0.0081920, Loss: 25.7322,Val MAE: 193.3247\n",
            "Epoch: 199, LR: 0.0065536, Loss: 21.2518,Val MAE: 310.4183\n",
            "Epoch: 249, LR: 0.0033554, Loss: 20.2408,Val MAE: 26.9435\n",
            "Epoch: 299, LR: 0.0021475, Loss: 17.9785,Val MAE: 33.6007\n",
            "Epoch: 349, LR: 0.0013744, Loss: 19.1660,Val MAE: 37.0492\n",
            "Epoch: 399, LR: 0.0008796, Loss: 22.7525,Val MAE: 40.3011\n",
            "Epoch: 449, LR: 0.0005629, Loss: 20.1270,Val MAE: 19.0977\n",
            "Epoch: 499, LR: 0.0003603, Loss: 20.4809,Val MAE: 13.8762\n",
            "Epoch: 549, LR: 0.0002882, Loss: 21.7140,Val MAE: 28.9861\n",
            "Epoch: 599, LR: 0.0001845, Loss: 19.3414,Val MAE: 8.1237\n",
            "Epoch: 649, LR: 0.0001476, Loss: 19.6067,Val MAE: 8.0649\n",
            "Epoch: 699, LR: 0.0000944, Loss: 19.8780,Val MAE: 8.1678\n",
            "Epoch: 749, LR: 0.0000484, Loss: 19.1517,Val MAE: 7.9852\n",
            "Epoch: 799, LR: 0.0000309, Loss: 18.2342,Val MAE: 7.7803\n",
            "Epoch: 849, LR: 0.0000198, Loss: 20.2875,Val MAE: 7.5591\n",
            "Epoch: 899, LR: 0.0000101, Loss: 20.6305,Val MAE: 9.2781\n",
            "Epoch: 949, LR: 0.0000065, Loss: 25.3392,Val MAE: 8.5591\n",
            "Epoch: 999, LR: 0.0000042, Loss: 19.3557,Val MAE: 7.5984\n",
            "Finish run with best_test=7.9557\n",
            "Epoch: 049, LR: 0.0160000, Loss: 25.2253,Val MAE: 136.1600\n",
            "Epoch: 099, LR: 0.0102400, Loss: 29.8848,Val MAE: 221.8059\n",
            "Epoch: 149, LR: 0.0065536, Loss: 23.2185,Val MAE: 228.5570\n",
            "Epoch: 199, LR: 0.0041943, Loss: 19.8219,Val MAE: 118.6330\n",
            "Epoch: 249, LR: 0.0021475, Loss: 19.7505,Val MAE: 30.6058\n",
            "Epoch: 299, LR: 0.0013744, Loss: 19.8277,Val MAE: 75.0426\n",
            "Epoch: 349, LR: 0.0008796, Loss: 19.1872,Val MAE: 8.2120\n",
            "Epoch: 399, LR: 0.0005629, Loss: 18.3655,Val MAE: 10.2303\n",
            "Epoch: 449, LR: 0.0003603, Loss: 20.6938,Val MAE: 20.3686\n",
            "Epoch: 499, LR: 0.0002306, Loss: 19.0580,Val MAE: 13.8898\n",
            "Epoch: 549, LR: 0.0001476, Loss: 19.5998,Val MAE: 11.9645\n",
            "Epoch: 599, LR: 0.0001181, Loss: 20.7272,Val MAE: 11.9058\n",
            "Epoch: 649, LR: 0.0000756, Loss: 20.4490,Val MAE: 9.9730\n",
            "Epoch: 699, LR: 0.0000484, Loss: 19.7605,Val MAE: 11.1438\n",
            "Epoch: 749, LR: 0.0000309, Loss: 18.0659,Val MAE: 7.6219\n",
            "Epoch: 799, LR: 0.0000158, Loss: 19.8583,Val MAE: 7.4067\n",
            "Epoch: 849, LR: 0.0000127, Loss: 20.1923,Val MAE: 9.8667\n",
            "Epoch: 899, LR: 0.0000065, Loss: 21.9970,Val MAE: 7.7745\n",
            "Epoch: 949, LR: 0.0000042, Loss: 21.8288,Val MAE: 7.4763\n",
            "Epoch: 999, LR: 0.0000021, Loss: 17.0806,Val MAE: 7.7662\n",
            "Finish run with best_test=7.1250\n",
            "Epoch: 049, LR: 0.0160000, Loss: 25.8790,Val MAE: 352.7495\n",
            "Epoch: 099, LR: 0.0081920, Loss: 24.5700,Val MAE: 147.2540\n",
            "Epoch: 149, LR: 0.0052429, Loss: 26.9813,Val MAE: 80.0729\n",
            "Epoch: 199, LR: 0.0041943, Loss: 24.1916,Val MAE: 191.3252\n",
            "Epoch: 249, LR: 0.0026844, Loss: 18.9542,Val MAE: 36.2664\n",
            "Epoch: 299, LR: 0.0017180, Loss: 23.5472,Val MAE: 166.4412\n",
            "Epoch: 349, LR: 0.0013744, Loss: 18.8965,Val MAE: 17.2049\n",
            "Epoch: 399, LR: 0.0007037, Loss: 18.8549,Val MAE: 13.0164\n",
            "Epoch: 449, LR: 0.0004504, Loss: 21.1495,Val MAE: 35.7308\n",
            "Epoch: 499, LR: 0.0003603, Loss: 19.9191,Val MAE: 21.4132\n",
            "Epoch: 549, LR: 0.0002306, Loss: 20.3027,Val MAE: 8.5328\n",
            "Epoch: 599, LR: 0.0001476, Loss: 22.5422,Val MAE: 10.6298\n",
            "Epoch: 649, LR: 0.0000944, Loss: 21.6487,Val MAE: 9.0531\n",
            "Epoch: 699, LR: 0.0000756, Loss: 18.6559,Val MAE: 9.4832\n",
            "Epoch: 749, LR: 0.0000484, Loss: 18.9514,Val MAE: 11.7599\n",
            "Epoch: 799, LR: 0.0000309, Loss: 21.1806,Val MAE: 10.5873\n",
            "Epoch: 849, LR: 0.0000198, Loss: 19.6240,Val MAE: 8.1096\n",
            "Epoch: 899, LR: 0.0000101, Loss: 18.2572,Val MAE: 8.9287\n",
            "Epoch: 949, LR: 0.0000065, Loss: 18.2974,Val MAE: 8.2350\n",
            "Epoch: 999, LR: 0.0000042, Loss: 19.3879,Val MAE: 9.0523\n",
            "Finish run with best_test=8.4274\n",
            "Epoch: 049, LR: 0.0160000, Loss: 27.0027,Val MAE: 61.7472\n",
            "Epoch: 099, LR: 0.0102400, Loss: 27.8734,Val MAE: 390.0071\n",
            "Epoch: 149, LR: 0.0065536, Loss: 22.4393,Val MAE: 407.6548\n",
            "Epoch: 199, LR: 0.0033554, Loss: 21.4412,Val MAE: 43.4831\n",
            "Epoch: 249, LR: 0.0021475, Loss: 20.8804,Val MAE: 122.6817\n",
            "Epoch: 299, LR: 0.0013744, Loss: 18.8734,Val MAE: 129.1660\n",
            "Epoch: 349, LR: 0.0010995, Loss: 21.4757,Val MAE: 87.3765\n",
            "Epoch: 399, LR: 0.0005629, Loss: 19.5997,Val MAE: 76.7844\n",
            "Epoch: 449, LR: 0.0003603, Loss: 20.0199,Val MAE: 11.5932\n",
            "Epoch: 499, LR: 0.0002306, Loss: 19.4681,Val MAE: 21.1203\n",
            "Epoch: 549, LR: 0.0001476, Loss: 17.9656,Val MAE: 9.5975\n",
            "Epoch: 599, LR: 0.0000944, Loss: 18.6458,Val MAE: 16.6102\n",
            "Epoch: 649, LR: 0.0000604, Loss: 20.4473,Val MAE: 12.3555\n",
            "Epoch: 699, LR: 0.0000387, Loss: 21.5538,Val MAE: 14.5072\n",
            "Epoch: 749, LR: 0.0000248, Loss: 19.0261,Val MAE: 11.1523\n",
            "Epoch: 799, LR: 0.0000158, Loss: 20.4833,Val MAE: 9.5900\n",
            "Epoch: 849, LR: 0.0000081, Loss: 18.3372,Val MAE: 7.6552\n",
            "Epoch: 899, LR: 0.0000065, Loss: 21.9883,Val MAE: 7.7118\n",
            "Epoch: 949, LR: 0.0000033, Loss: 19.7834,Val MAE: 7.9875\n",
            "Epoch: 999, LR: 0.0000021, Loss: 22.3811,Val MAE: 8.2304\n",
            "Finish run with best_test=7.1549\n"
          ]
        }
      ]
    },
    {
      "cell_type": "code",
      "source": [
        "hid_dim = 256\n",
        "out_dim = 1 #14\n",
        "dropout = 0\n",
        "batch_size = 128\n",
        "max_num_epochs = 1000\n",
        "min_lr = 0.0000001 #UPDATED\n",
        "patience = 20 #UPDATED\n",
        "mae, std, std_all = nn_evaluation(dataset, hid_dim, out_dim, batch_size=batch_size, max_num_epochs=max_num_epochs, \n",
        "                                  start_lr=0.02, min_lr = min_lr, factor=0.8, patience=patience,\n",
        "                       num_repetitions=1, all_std=True, verbose=True, dropout=dropout)"
      ],
      "metadata": {
        "colab": {
          "base_uri": "https://localhost:8080/"
        },
        "id": "2REu65_xzLN2",
        "outputId": "df328ac1-1698-4b99-f6cb-107d7bf69df5"
      },
      "execution_count": null,
      "outputs": [
        {
          "output_type": "stream",
          "name": "stderr",
          "text": [
            "/usr/local/lib/python3.9/dist-packages/torch_geometric/data/in_memory_dataset.py:157: UserWarning: It is not recommended to directly access the internal storage format `data` of an 'InMemoryDataset'. If you are absolutely certain what you are doing, access the internal storage via `InMemoryDataset._data` instead to suppress this warning. Alternatively, you can access stacked individual attributes of every graph via `dataset.{attr_name}`.\n",
            "  warnings.warn(msg)\n"
          ]
        },
        {
          "output_type": "stream",
          "name": "stdout",
          "text": [
            "100\n",
            "Epoch: 049, LR: 0.0200000, Loss: 28.6855,Val MAE: 227.5056\n",
            "Epoch: 099, LR: 0.0128000, Loss: 23.7137,Val MAE: 46.0820\n",
            "Epoch: 149, LR: 0.0081920, Loss: 20.4971,Val MAE: 118.2099\n",
            "Epoch: 199, LR: 0.0041943, Loss: 20.5522,Val MAE: 358.0986\n",
            "Epoch: 249, LR: 0.0033554, Loss: 20.1862,Val MAE: 25.9182\n",
            "Epoch: 299, LR: 0.0017180, Loss: 21.7859,Val MAE: 10.9584\n",
            "Epoch: 349, LR: 0.0010995, Loss: 21.3241,Val MAE: 8.5966\n",
            "Epoch: 399, LR: 0.0007037, Loss: 22.5786,Val MAE: 17.7308\n",
            "Epoch: 449, LR: 0.0005629, Loss: 20.0262,Val MAE: 15.2174\n",
            "Epoch: 499, LR: 0.0003603, Loss: 20.9693,Val MAE: 7.9936\n",
            "Epoch: 549, LR: 0.0002306, Loss: 19.4646,Val MAE: 11.3357\n",
            "Epoch: 599, LR: 0.0001845, Loss: 22.0336,Val MAE: 8.4630\n",
            "Epoch: 649, LR: 0.0001181, Loss: 19.8118,Val MAE: 8.5338\n",
            "Epoch: 699, LR: 0.0000756, Loss: 20.8628,Val MAE: 7.6221\n",
            "Epoch: 749, LR: 0.0000387, Loss: 20.1285,Val MAE: 7.6349\n",
            "Epoch: 799, LR: 0.0000248, Loss: 17.1195,Val MAE: 7.5699\n",
            "Epoch: 849, LR: 0.0000158, Loss: 18.2042,Val MAE: 7.6960\n",
            "Epoch: 899, LR: 0.0000081, Loss: 20.1685,Val MAE: 8.3038\n",
            "Epoch: 949, LR: 0.0000052, Loss: 20.5965,Val MAE: 7.9228\n",
            "Epoch: 999, LR: 0.0000027, Loss: 23.7069,Val MAE: 7.7736\n",
            "Finish run with best_test=7.2882\n",
            "Epoch: 049, LR: 0.0160000, Loss: 29.4943,Val MAE: 391.8505\n",
            "Epoch: 099, LR: 0.0102400, Loss: 24.2980,Val MAE: 43.0237\n",
            "Epoch: 149, LR: 0.0052429, Loss: 23.9011,Val MAE: 59.8423\n",
            "Epoch: 199, LR: 0.0041943, Loss: 19.2759,Val MAE: 148.1403\n",
            "Epoch: 249, LR: 0.0021475, Loss: 21.1703,Val MAE: 38.5250\n",
            "Epoch: 299, LR: 0.0017180, Loss: 18.7942,Val MAE: 26.9965\n",
            "Epoch: 349, LR: 0.0010995, Loss: 20.7289,Val MAE: 13.0098\n",
            "Epoch: 399, LR: 0.0007037, Loss: 19.4617,Val MAE: 36.9466\n",
            "Epoch: 449, LR: 0.0003603, Loss: 18.1640,Val MAE: 21.4261\n",
            "Epoch: 499, LR: 0.0002306, Loss: 21.4708,Val MAE: 11.2942\n",
            "Epoch: 549, LR: 0.0001476, Loss: 22.2573,Val MAE: 9.1949\n",
            "Epoch: 599, LR: 0.0000944, Loss: 21.1159,Val MAE: 14.6425\n",
            "Epoch: 649, LR: 0.0000604, Loss: 21.4340,Val MAE: 9.0386\n",
            "Epoch: 699, LR: 0.0000387, Loss: 21.0984,Val MAE: 10.6344\n",
            "Epoch: 749, LR: 0.0000248, Loss: 20.3845,Val MAE: 8.0097\n",
            "Epoch: 799, LR: 0.0000127, Loss: 18.7085,Val MAE: 8.7195\n",
            "Epoch: 849, LR: 0.0000081, Loss: 20.9112,Val MAE: 8.9701\n",
            "Epoch: 899, LR: 0.0000042, Loss: 20.5539,Val MAE: 10.0782\n",
            "Epoch: 949, LR: 0.0000027, Loss: 18.9892,Val MAE: 9.8426\n",
            "Epoch: 999, LR: 0.0000017, Loss: 18.5224,Val MAE: 11.0823\n",
            "Finish run with best_test=8.3359\n",
            "Epoch: 049, LR: 0.0160000, Loss: 24.6544,Val MAE: 29.3580\n",
            "Epoch: 099, LR: 0.0102400, Loss: 23.6109,Val MAE: 113.2897\n",
            "Epoch: 149, LR: 0.0052429, Loss: 23.8925,Val MAE: 25.5134\n",
            "Epoch: 199, LR: 0.0041943, Loss: 21.6049,Val MAE: 219.4121\n",
            "Epoch: 249, LR: 0.0021475, Loss: 23.3898,Val MAE: 27.7693\n",
            "Epoch: 299, LR: 0.0013744, Loss: 23.9464,Val MAE: 16.7605\n",
            "Epoch: 349, LR: 0.0008796, Loss: 20.7848,Val MAE: 15.1601\n",
            "Epoch: 399, LR: 0.0005629, Loss: 22.4577,Val MAE: 12.5755\n",
            "Epoch: 449, LR: 0.0004504, Loss: 20.4754,Val MAE: 41.5318\n",
            "Epoch: 499, LR: 0.0002882, Loss: 23.6880,Val MAE: 15.8956\n",
            "Epoch: 549, LR: 0.0001845, Loss: 21.4350,Val MAE: 14.2175\n",
            "Epoch: 599, LR: 0.0001476, Loss: 20.5424,Val MAE: 12.4318\n",
            "Epoch: 649, LR: 0.0000756, Loss: 21.6257,Val MAE: 9.4206\n",
            "Epoch: 699, LR: 0.0000604, Loss: 22.5659,Val MAE: 8.8422\n",
            "Epoch: 749, LR: 0.0000387, Loss: 20.6543,Val MAE: 8.4917\n",
            "Epoch: 799, LR: 0.0000248, Loss: 19.2167,Val MAE: 8.3961\n",
            "Epoch: 849, LR: 0.0000158, Loss: 18.8029,Val MAE: 7.8956\n",
            "Epoch: 899, LR: 0.0000101, Loss: 18.6262,Val MAE: 7.8936\n",
            "Epoch: 949, LR: 0.0000052, Loss: 20.3466,Val MAE: 10.2524\n",
            "Epoch: 999, LR: 0.0000033, Loss: 19.7617,Val MAE: 9.7339\n",
            "Finish run with best_test=7.6633\n",
            "Epoch: 049, LR: 0.0200000, Loss: 25.7447,Val MAE: 525.5580\n",
            "Epoch: 099, LR: 0.0102400, Loss: 24.8949,Val MAE: 221.3724\n",
            "Epoch: 149, LR: 0.0065536, Loss: 25.8068,Val MAE: 37.9571\n",
            "Epoch: 199, LR: 0.0041943, Loss: 22.0576,Val MAE: 156.1107\n",
            "Epoch: 249, LR: 0.0026844, Loss: 21.8588,Val MAE: 45.7174\n",
            "Epoch: 299, LR: 0.0021475, Loss: 20.1567,Val MAE: 20.5091\n",
            "Epoch: 349, LR: 0.0010995, Loss: 19.1955,Val MAE: 70.2080\n",
            "Epoch: 399, LR: 0.0007037, Loss: 21.3907,Val MAE: 59.9442\n",
            "Epoch: 449, LR: 0.0004504, Loss: 17.3869,Val MAE: 37.0140\n",
            "Epoch: 499, LR: 0.0002882, Loss: 20.8976,Val MAE: 8.1361\n",
            "Epoch: 549, LR: 0.0001845, Loss: 18.5661,Val MAE: 14.0439\n",
            "Epoch: 599, LR: 0.0001476, Loss: 20.6311,Val MAE: 10.9776\n",
            "Epoch: 649, LR: 0.0000944, Loss: 20.9885,Val MAE: 9.8089\n",
            "Epoch: 699, LR: 0.0000604, Loss: 20.8835,Val MAE: 12.3921\n",
            "Epoch: 749, LR: 0.0000309, Loss: 18.9783,Val MAE: 8.1343\n",
            "Epoch: 799, LR: 0.0000198, Loss: 20.7526,Val MAE: 9.4837\n",
            "Epoch: 849, LR: 0.0000127, Loss: 19.0112,Val MAE: 8.5662\n",
            "Epoch: 899, LR: 0.0000065, Loss: 19.1854,Val MAE: 9.2065\n",
            "Epoch: 949, LR: 0.0000042, Loss: 18.9403,Val MAE: 8.7671\n",
            "Epoch: 999, LR: 0.0000027, Loss: 21.5751,Val MAE: 8.5745\n",
            "Finish run with best_test=8.0102\n",
            "Epoch: 049, LR: 0.0160000, Loss: 26.7092,Val MAE: 229.8397\n",
            "Epoch: 099, LR: 0.0102400, Loss: 25.1248,Val MAE: 228.4760\n",
            "Epoch: 149, LR: 0.0065536, Loss: 23.7576,Val MAE: 56.1902\n",
            "Epoch: 199, LR: 0.0052429, Loss: 23.9283,Val MAE: 203.7226\n",
            "Epoch: 249, LR: 0.0041943, Loss: 22.9287,Val MAE: 26.2493\n",
            "Epoch: 299, LR: 0.0026844, Loss: 21.7868,Val MAE: 25.1955\n",
            "Epoch: 349, LR: 0.0017180, Loss: 25.5476,Val MAE: 55.7081\n",
            "Epoch: 399, LR: 0.0008796, Loss: 19.6026,Val MAE: 43.9350\n",
            "Epoch: 449, LR: 0.0005629, Loss: 20.5850,Val MAE: 24.6706\n",
            "Epoch: 499, LR: 0.0003603, Loss: 18.7266,Val MAE: 14.2471\n",
            "Epoch: 549, LR: 0.0002306, Loss: 18.7418,Val MAE: 11.6581\n",
            "Epoch: 599, LR: 0.0001181, Loss: 20.7327,Val MAE: 10.2021\n",
            "Epoch: 649, LR: 0.0000756, Loss: 19.6193,Val MAE: 7.9938\n",
            "Epoch: 699, LR: 0.0000484, Loss: 20.1820,Val MAE: 8.2002\n",
            "Epoch: 749, LR: 0.0000309, Loss: 20.5103,Val MAE: 9.2227\n",
            "Epoch: 799, LR: 0.0000198, Loss: 23.4677,Val MAE: 8.4857\n",
            "Epoch: 849, LR: 0.0000101, Loss: 19.2356,Val MAE: 8.1831\n",
            "Epoch: 899, LR: 0.0000065, Loss: 20.5529,Val MAE: 10.9791\n",
            "Epoch: 949, LR: 0.0000033, Loss: 18.2937,Val MAE: 9.1535\n",
            "Epoch: 999, LR: 0.0000021, Loss: 23.2672,Val MAE: 10.5691\n",
            "Finish run with best_test=8.4040\n",
            "Epoch: 049, LR: 0.0160000, Loss: 23.5275,Val MAE: 64.9291\n",
            "Epoch: 099, LR: 0.0081920, Loss: 22.1170,Val MAE: 52.9741\n",
            "Epoch: 149, LR: 0.0052429, Loss: 24.0353,Val MAE: 213.3374\n",
            "Epoch: 199, LR: 0.0033554, Loss: 20.9986,Val MAE: 144.1674\n",
            "Epoch: 249, LR: 0.0021475, Loss: 21.0698,Val MAE: 53.4753\n",
            "Epoch: 299, LR: 0.0017180, Loss: 23.9540,Val MAE: 50.4213\n",
            "Epoch: 349, LR: 0.0008796, Loss: 20.8245,Val MAE: 54.6267\n",
            "Epoch: 399, LR: 0.0005629, Loss: 19.0802,Val MAE: 14.8718\n",
            "Epoch: 449, LR: 0.0004504, Loss: 19.1120,Val MAE: 9.5965\n",
            "Epoch: 499, LR: 0.0002306, Loss: 23.1178,Val MAE: 16.5986\n",
            "Epoch: 549, LR: 0.0001845, Loss: 23.1910,Val MAE: 9.3729\n",
            "Epoch: 599, LR: 0.0001181, Loss: 19.5693,Val MAE: 10.5568\n",
            "Epoch: 649, LR: 0.0000944, Loss: 19.8838,Val MAE: 11.7021\n",
            "Epoch: 699, LR: 0.0000604, Loss: 21.4212,Val MAE: 8.4302\n",
            "Epoch: 749, LR: 0.0000387, Loss: 20.7160,Val MAE: 8.8485\n",
            "Epoch: 799, LR: 0.0000248, Loss: 21.9953,Val MAE: 9.3285\n",
            "Epoch: 849, LR: 0.0000158, Loss: 18.1973,Val MAE: 9.2968\n",
            "Epoch: 899, LR: 0.0000101, Loss: 20.2423,Val MAE: 8.4723\n",
            "Epoch: 949, LR: 0.0000065, Loss: 18.0765,Val MAE: 9.8106\n",
            "Epoch: 999, LR: 0.0000033, Loss: 22.9114,Val MAE: 10.6755\n",
            "Finish run with best_test=8.0234\n",
            "Epoch: 049, LR: 0.0160000, Loss: 27.2868,Val MAE: 65.9466\n",
            "Epoch: 099, LR: 0.0128000, Loss: 22.1839,Val MAE: 70.9270\n",
            "Epoch: 149, LR: 0.0081920, Loss: 23.7469,Val MAE: 178.1213\n",
            "Epoch: 199, LR: 0.0041943, Loss: 23.8552,Val MAE: 36.3673\n",
            "Epoch: 249, LR: 0.0026844, Loss: 23.6486,Val MAE: 226.5005\n",
            "Epoch: 299, LR: 0.0017180, Loss: 22.1591,Val MAE: 218.6330\n",
            "Epoch: 349, LR: 0.0010995, Loss: 22.1022,Val MAE: 86.1621\n",
            "Epoch: 399, LR: 0.0007037, Loss: 20.0261,Val MAE: 75.0557\n",
            "Epoch: 449, LR: 0.0004504, Loss: 20.8576,Val MAE: 61.9756\n",
            "Epoch: 499, LR: 0.0002882, Loss: 21.8013,Val MAE: 8.0233\n",
            "Epoch: 549, LR: 0.0001476, Loss: 21.9324,Val MAE: 8.5793\n",
            "Epoch: 599, LR: 0.0001181, Loss: 20.7445,Val MAE: 11.8711\n",
            "Epoch: 649, LR: 0.0000756, Loss: 20.5380,Val MAE: 11.3948\n",
            "Epoch: 699, LR: 0.0000484, Loss: 19.7091,Val MAE: 12.5019\n",
            "Epoch: 749, LR: 0.0000309, Loss: 22.4056,Val MAE: 8.4456\n",
            "Epoch: 799, LR: 0.0000198, Loss: 19.9665,Val MAE: 8.2245\n",
            "Epoch: 849, LR: 0.0000101, Loss: 18.8506,Val MAE: 8.5455\n",
            "Epoch: 899, LR: 0.0000065, Loss: 19.5188,Val MAE: 9.2248\n",
            "Epoch: 949, LR: 0.0000042, Loss: 19.6120,Val MAE: 8.0737\n",
            "Epoch: 999, LR: 0.0000021, Loss: 20.7629,Val MAE: 9.6422\n",
            "Finish run with best_test=8.2469\n",
            "Epoch: 049, LR: 0.0160000, Loss: 24.7015,Val MAE: 52.4294\n",
            "Epoch: 099, LR: 0.0102400, Loss: 22.7544,Val MAE: 409.8875\n",
            "Epoch: 149, LR: 0.0052429, Loss: 21.4336,Val MAE: 442.2713\n",
            "Epoch: 199, LR: 0.0041943, Loss: 21.0740,Val MAE: 34.8606\n",
            "Epoch: 249, LR: 0.0033554, Loss: 23.1884,Val MAE: 339.8577\n",
            "Epoch: 299, LR: 0.0021475, Loss: 21.8716,Val MAE: 100.8062\n",
            "Epoch: 349, LR: 0.0013744, Loss: 19.2648,Val MAE: 101.9558\n",
            "Epoch: 399, LR: 0.0010995, Loss: 22.4099,Val MAE: 19.2439\n",
            "Epoch: 449, LR: 0.0007037, Loss: 19.4062,Val MAE: 32.5006\n",
            "Epoch: 499, LR: 0.0004504, Loss: 21.2516,Val MAE: 51.0560\n",
            "Epoch: 549, LR: 0.0002882, Loss: 18.9938,Val MAE: 26.3421\n",
            "Epoch: 599, LR: 0.0001845, Loss: 21.0655,Val MAE: 8.1373\n",
            "Epoch: 649, LR: 0.0001181, Loss: 19.3829,Val MAE: 17.2800\n",
            "Epoch: 699, LR: 0.0000756, Loss: 22.0205,Val MAE: 11.1532\n",
            "Epoch: 749, LR: 0.0000484, Loss: 17.8427,Val MAE: 7.7803\n",
            "Epoch: 799, LR: 0.0000309, Loss: 20.7249,Val MAE: 8.6541\n",
            "Epoch: 849, LR: 0.0000198, Loss: 20.3998,Val MAE: 8.8946\n",
            "Epoch: 899, LR: 0.0000101, Loss: 19.3046,Val MAE: 7.9438\n",
            "Epoch: 949, LR: 0.0000065, Loss: 19.7208,Val MAE: 8.7442\n",
            "Epoch: 999, LR: 0.0000042, Loss: 19.6888,Val MAE: 8.6330\n",
            "Finish run with best_test=7.5073\n",
            "Epoch: 049, LR: 0.0160000, Loss: 22.7603,Val MAE: 170.9051\n",
            "Epoch: 099, LR: 0.0102400, Loss: 26.9468,Val MAE: 51.9357\n",
            "Epoch: 149, LR: 0.0052429, Loss: 24.9709,Val MAE: 28.3807\n",
            "Epoch: 199, LR: 0.0033554, Loss: 20.1014,Val MAE: 82.9796\n",
            "Epoch: 249, LR: 0.0021475, Loss: 20.4656,Val MAE: 67.5755\n",
            "Epoch: 299, LR: 0.0010995, Loss: 21.5549,Val MAE: 42.8000\n",
            "Epoch: 349, LR: 0.0008796, Loss: 18.4960,Val MAE: 62.4161\n",
            "Epoch: 399, LR: 0.0004504, Loss: 20.7342,Val MAE: 22.6735\n",
            "Epoch: 449, LR: 0.0003603, Loss: 18.1396,Val MAE: 11.5912\n",
            "Epoch: 499, LR: 0.0002882, Loss: 22.5666,Val MAE: 12.0026\n",
            "Epoch: 549, LR: 0.0001845, Loss: 17.7173,Val MAE: 11.2150\n",
            "Epoch: 599, LR: 0.0001181, Loss: 19.8248,Val MAE: 8.5195\n",
            "Epoch: 649, LR: 0.0000756, Loss: 20.4631,Val MAE: 8.6896\n",
            "Epoch: 699, LR: 0.0000604, Loss: 22.1838,Val MAE: 8.8140\n",
            "Epoch: 749, LR: 0.0000387, Loss: 21.1110,Val MAE: 9.4546\n",
            "Epoch: 799, LR: 0.0000248, Loss: 21.2484,Val MAE: 8.0326\n",
            "Epoch: 849, LR: 0.0000158, Loss: 19.0660,Val MAE: 8.9935\n",
            "Epoch: 899, LR: 0.0000101, Loss: 18.5367,Val MAE: 11.5213\n",
            "Epoch: 949, LR: 0.0000052, Loss: 19.4574,Val MAE: 8.2402\n",
            "Epoch: 999, LR: 0.0000033, Loss: 21.4723,Val MAE: 8.4786\n",
            "Finish run with best_test=8.8316\n",
            "Epoch: 049, LR: 0.0160000, Loss: 28.4441,Val MAE: 169.2502\n",
            "Epoch: 099, LR: 0.0128000, Loss: 24.2751,Val MAE: 186.6395\n",
            "Epoch: 149, LR: 0.0081920, Loss: 23.1648,Val MAE: 54.9321\n",
            "Epoch: 199, LR: 0.0041943, Loss: 20.1205,Val MAE: 247.0035\n",
            "Epoch: 249, LR: 0.0026844, Loss: 21.0559,Val MAE: 150.3351\n",
            "Epoch: 299, LR: 0.0017180, Loss: 20.1709,Val MAE: 103.7380\n",
            "Epoch: 349, LR: 0.0013744, Loss: 23.1459,Val MAE: 31.9937\n",
            "Epoch: 399, LR: 0.0008796, Loss: 19.5074,Val MAE: 141.1469\n",
            "Epoch: 449, LR: 0.0007037, Loss: 20.8500,Val MAE: 32.0893\n",
            "Epoch: 499, LR: 0.0003603, Loss: 20.8510,Val MAE: 28.2283\n",
            "Epoch: 549, LR: 0.0002306, Loss: 21.9684,Val MAE: 9.0880\n",
            "Epoch: 599, LR: 0.0001476, Loss: 19.3405,Val MAE: 9.1177\n",
            "Epoch: 649, LR: 0.0000756, Loss: 19.5987,Val MAE: 9.4349\n",
            "Epoch: 699, LR: 0.0000484, Loss: 19.4547,Val MAE: 7.8741\n",
            "Epoch: 749, LR: 0.0000309, Loss: 20.6584,Val MAE: 9.0165\n",
            "Epoch: 799, LR: 0.0000198, Loss: 19.2707,Val MAE: 8.3912\n",
            "Epoch: 849, LR: 0.0000101, Loss: 19.4651,Val MAE: 7.7525\n",
            "Epoch: 899, LR: 0.0000065, Loss: 19.9034,Val MAE: 7.9761\n",
            "Epoch: 949, LR: 0.0000042, Loss: 19.3851,Val MAE: 9.3499\n",
            "Epoch: 999, LR: 0.0000033, Loss: 19.4009,Val MAE: 8.5720\n",
            "Finish run with best_test=7.3517\n"
          ]
        }
      ]
    },
    {
      "cell_type": "markdown",
      "source": [
        "#### Comparison with related work \n",
        "- (A slight different/easier dataset QM7, same Colomb Matrix (CM) representation):\n",
        " -  [Rupp et al.](https://arxiv.org/pdf/1109.2618.pdf) achieved Atomization Energies MAE ~10 (target_variable=0), using eigenvalues of CM; \n",
        " - [Montavon et al.](https://proceedings.neurips.cc/paper/2012/file/115f89503138416a242f40fb7d7f338e-Paper.pdf) achieve Atomization Energies MAE < 4 using random permutations (of rows and columns) of CM. It suggests that building an (approximate) equivariant model with data augmentation yields better performance (than exact invariant model, i.e., using eigenvalues)\n",
        "- QM7b:\n",
        " - [Motavon et al.[https://th.fhi-berlin.mpg.de/site/uploads/Publications/QM-NJP_20130315.pdf]: Table 1 (really good results but require high memory storage, by first converting CM to binary representation (2000 x 23 x 23) Tensor\n",
        " - [Wu et al.](https://arxiv.org/pdf/1703.00564.pdf): Table 10 (similar to ours but use Kernel-ridge-regression for CM)\n",
        "\n",
        "More refs: http://quantum-machine.org/datasets/\n",
        "Better representation than CM: https://aip.scitation.org/doi/10.1063/1.5126701\n",
        "(out of the scope?) (maybe can ask Erik if we go down the rabbit hole of this?)"
      ],
      "metadata": {
        "id": "iwdYkfjxsYra"
      }
    },
    {
      "cell_type": "code",
      "source": [],
      "metadata": {
        "id": "dF-FLdvGIJp5"
      },
      "execution_count": null,
      "outputs": []
    },
    {
      "cell_type": "markdown",
      "source": [
        "### (Invariant classification) Benchmark dataset: ModelNet40\n",
        "- The most popular dataset for pointcloud classification\n",
        "- Can benchmark against Deepset and PointNet (old SOTA models): e,g, https://github.com/manzilzaheer/DeepSets/blob/master/PointClouds/run.py\n",
        "- BUG: relatively large point clouds, our methods need $O(n^2)$ computation whereas Deepset/PointNet can do $O(n)$ (since the point clouds literally live in $d=3$)"
      ],
      "metadata": {
        "id": "iFdxli69QGTP"
      }
    },
    {
      "cell_type": "code",
      "source": [],
      "metadata": {
        "id": "hfxM83KR7bCp"
      },
      "execution_count": null,
      "outputs": []
    }
  ]
}