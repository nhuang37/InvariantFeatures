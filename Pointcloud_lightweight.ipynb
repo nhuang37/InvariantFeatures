{
  "nbformat": 4,
  "nbformat_minor": 0,
  "metadata": {
    "colab": {
      "provenance": [],
      "machine_shape": "hm",
      "collapsed_sections": [
        "Ek3tN2nzia3K",
        "y5zKXHm_fv-B",
        "kRsalMETf5FJ"
      ],
      "include_colab_link": true
    },
    "kernelspec": {
      "name": "python3",
      "display_name": "Python 3"
    },
    "language_info": {
      "name": "python"
    },
    "accelerator": "GPU",
    "gpuClass": "standard"
  },
  "cells": [
    {
      "cell_type": "markdown",
      "metadata": {
        "id": "view-in-github",
        "colab_type": "text"
      },
      "source": [
        "<a href=\"https://colab.research.google.com/github/nhuang37/ScalarModel/blob/main/Pointcloud_lightweight.ipynb\" target=\"_parent\"><img src=\"https://colab.research.google.com/assets/colab-badge.svg\" alt=\"Open In Colab\"/></a>"
      ]
    },
    {
      "cell_type": "markdown",
      "source": [
        "### Utils"
      ],
      "metadata": {
        "id": "24V0gbaJN9GZ"
      }
    },
    {
      "cell_type": "code",
      "source": [
        "from google.colab import drive\n",
        "drive.mount('/content/drive')"
      ],
      "metadata": {
        "id": "08gINYIyLDiS",
        "colab": {
          "base_uri": "https://localhost:8080/"
        },
        "outputId": "4f467460-8a24-40b3-eab2-93e9a69d8cfe"
      },
      "execution_count": 1,
      "outputs": [
        {
          "output_type": "stream",
          "name": "stdout",
          "text": [
            "Drive already mounted at /content/drive; to attempt to forcibly remount, call drive.mount(\"/content/drive\", force_remount=True).\n"
          ]
        }
      ]
    },
    {
      "cell_type": "code",
      "source": [
        "!cd '/content/drive/MyDrive/JHU/Group'"
      ],
      "metadata": {
        "id": "e7IkgpUyLI8l"
      },
      "execution_count": 2,
      "outputs": []
    },
    {
      "cell_type": "code",
      "source": [
        "!pip install POT"
      ],
      "metadata": {
        "colab": {
          "base_uri": "https://localhost:8080/"
        },
        "id": "yGz86TR-dgrT",
        "outputId": "dafc3d56-54d9-4dc4-8941-87ddc8a31add"
      },
      "execution_count": 3,
      "outputs": [
        {
          "output_type": "stream",
          "name": "stdout",
          "text": [
            "Looking in indexes: https://pypi.org/simple, https://us-python.pkg.dev/colab-wheels/public/simple/\n",
            "Collecting POT\n",
            "  Downloading POT-0.9.0-cp39-cp39-manylinux_2_12_x86_64.manylinux2010_x86_64.whl (709 kB)\n",
            "\u001b[2K     \u001b[90m━━━━━━━━━━━━━━━━━━━━━━━━━━━━━━━━━━━━━━\u001b[0m \u001b[32m709.2/709.2 kB\u001b[0m \u001b[31m32.3 MB/s\u001b[0m eta \u001b[36m0:00:00\u001b[0m\n",
            "\u001b[?25hRequirement already satisfied: scipy>=1.0 in /usr/local/lib/python3.9/dist-packages (from POT) (1.10.1)\n",
            "Requirement already satisfied: numpy>=1.16 in /usr/local/lib/python3.9/dist-packages (from POT) (1.22.4)\n",
            "Installing collected packages: POT\n",
            "Successfully installed POT-0.9.0\n"
          ]
        }
      ]
    },
    {
      "cell_type": "code",
      "source": [
        "import os\n",
        "import torch\n",
        "os.environ['TORCH'] = torch.__version__\n",
        "print(torch.__version__)\n",
        "\n",
        "!pip install -q torch-scatter -f https://data.pyg.org/whl/torch-${TORCH}.html\n",
        "!pip install -q torch-sparse -f https://data.pyg.org/whl/torch-${TORCH}.html\n",
        "!pip install -q torch-cluster -f https://data.pyg.org/whl/torch-${TORCH}.html\n",
        "!pip install -q git+https://github.com/pyg-team/pytorch_geometric.git"
      ],
      "metadata": {
        "colab": {
          "base_uri": "https://localhost:8080/"
        },
        "id": "oUw8G1yLxYA6",
        "outputId": "c6cb33e4-93b3-4b70-aca2-b3e674b0ac36"
      },
      "execution_count": 4,
      "outputs": [
        {
          "output_type": "stream",
          "name": "stdout",
          "text": [
            "2.0.0+cu118\n",
            "  Installing build dependencies ... \u001b[?25l\u001b[?25hdone\n",
            "  Getting requirements to build wheel ... \u001b[?25l\u001b[?25hdone\n",
            "  Preparing metadata (pyproject.toml) ... \u001b[?25l\u001b[?25hdone\n"
          ]
        }
      ]
    },
    {
      "cell_type": "code",
      "execution_count": 5,
      "metadata": {
        "id": "6UwCMOERTF2G"
      },
      "outputs": [],
      "source": [
        "import numpy as np\n",
        "import networkx as nx\n",
        "import copy\n",
        "import pydot\n",
        "from networkx.drawing.nx_pydot import graphviz_layout\n",
        "import matplotlib.pyplot as plt\n",
        "from collections import Counter\n",
        "from networkx.generators.nonisomorphic_trees import nonisomorphic_trees\n",
        "import os\n",
        "from sympy.utilities.iterables import multiset_permutations\n",
        "import itertools\n",
        "from itertools import permutations\n",
        "import ot\n",
        "import scipy as sp\n",
        "\n",
        "np.set_printoptions(precision=4, suppress=True)"
      ]
    },
    {
      "cell_type": "code",
      "source": [
        "def get_permutations(n, hashable=False):\n",
        "  '''\n",
        "  Return a list of n! permutations\n",
        "  '''\n",
        "  Perms = []\n",
        "  for m in itertools.permutations(np.eye(n)):\n",
        "    if hashable:\n",
        "      Perms.append(hash(np.array(m).tobytes()))\n",
        "    else:\n",
        "      Perms.append(np.array(m))\n",
        "\n",
        "  return Perms"
      ],
      "metadata": {
        "id": "zEOy5xeBxvII"
      },
      "execution_count": null,
      "outputs": []
    },
    {
      "cell_type": "code",
      "source": [
        "def construct_nx_graph(edge_list):\n",
        "  '''\n",
        "  Return networkx graph using a list of edge tuples\n",
        "  '''\n",
        "  G = nx.Graph()\n",
        "  G.add_edges_from(edge_list)\n",
        "  return G\n",
        "\n",
        "def draw_nx_tree(G, pos):\n",
        "  nx.draw_networkx(G, pos, with_labels = True)\n",
        "  plt.show()\n",
        "\n",
        "\n",
        "def compute_eigen(G):\n",
        "  '''\n",
        "  Given a graph G (networkx), compute the eigendecomposition of its adjacency\n",
        "  '''\n",
        "  A = nx.to_numpy_array(G)\n",
        "  s, u = np.linalg.eigh(A)\n",
        "  idx = s.argsort()[::-1]   \n",
        "  s = s[idx]\n",
        "  u = u[:,idx]\n",
        "  return s, u"
      ],
      "metadata": {
        "id": "NZJSzPD0wxuT"
      },
      "execution_count": null,
      "outputs": []
    },
    {
      "cell_type": "markdown",
      "source": [
        "### Ben's invariant features: "
      ],
      "metadata": {
        "id": "b-a1KIwwyV1E"
      }
    },
    {
      "cell_type": "code",
      "source": [
        "def arrayToMultiset(arr, decimals=4):\n",
        "  '''\n",
        "  Input: 1D numpy array\n",
        "  Output: a multiset of elements \n",
        "  '''\n",
        "  unique, counts = np.unique(arr.round(decimals), return_counts=True)\n",
        "  return dict(zip(unique, counts))\n",
        "\n",
        "def upper_tri_masking(A):\n",
        "  '''\n",
        "  return the upper triangular values of matrix A (without diagonal)\n",
        "  '''\n",
        "  m = A.shape[0]\n",
        "  r = np.arange(m)\n",
        "  mask = r[:,None] < r\n",
        "  return A[mask]\n",
        "\n",
        "def row_sum(row, row_idx, decimals=4):\n",
        "  '''\n",
        "  Input: row (of matrix of dot-product), row_idx\n",
        "  Return sum_{j \\neq row_idx} row[row_idx] * row[j]\n",
        "  '''\n",
        "  sum = 0\n",
        "  n = row.shape[0]\n",
        "  for j in range(n):\n",
        "    if j == row_idx:\n",
        "      continue\n",
        "    sum += row[row_idx] * row[j]\n",
        "  return sum.round(decimals)\n",
        "\n",
        "def get_fs(U, decimals=4):\n",
        "  '''\n",
        "  Input: U being n by k point clouds\n",
        "  Output: return an array with n + (n choose 2) + 1 coordinates, where\n",
        "  : first n-dim being the SORTED self dots;\n",
        "  : next (n choose 2)-dim being the SORTED cross dots;\n",
        "  : last dim being the f*\n",
        "  '''\n",
        "  n = U.shape[0]\n",
        "  num_cross = int(n*(n-1)/2)\n",
        "  K = n + num_cross + 1\n",
        "  invariants = np.zeros(K)\n",
        "  #compute the dot product\n",
        "  DOT = U @ U.T\n",
        "  #SORTED self dots\n",
        "  invariants[:n] = np.sort(np.diagonal(DOT))\n",
        "  #SORTED cross dots\n",
        "  invariants[n:(n+num_cross)] = np.sort(DOT[np.triu_indices(n, 1)])\n",
        "  #f*\n",
        "  invariants[-1] = np.array([DOT[i,i]*(DOT[i].sum()-DOT[i, i]) for i in range(n)]).sum()\n",
        "  return invariants\n",
        "\n",
        "def procrustesMatcher(U, U_t, decimals=4):\n",
        "  '''\n",
        "  Input: U , U_t both n by k eigenvector matrices, with n rows and k orthornormal columns\n",
        "  Re-index the rows in U as a_i, rows in U_t as b_i, for i = 1, ..., n\n",
        "  Check 3 invariants\n",
        "  '''\n",
        "  n = U.shape[0]\n",
        "  inv_U = get_fs(U)\n",
        "  inv_U_t = get_fs(U_t)\n",
        "\n",
        "  return np.all(inv_U == inv_U_t)"
      ],
      "metadata": {
        "id": "jQtL96NAqHmf"
      },
      "execution_count": 8,
      "outputs": []
    },
    {
      "cell_type": "markdown",
      "source": [
        "### Gromov-Wasserstein distance"
      ],
      "metadata": {
        "id": "Ek3tN2nzia3K"
      }
    },
    {
      "cell_type": "code",
      "source": [
        "def compute_GW(X, Y):\n",
        "  '''\n",
        "  Assume X, Y are pointclouds with n points (rows) in d dimension (columns)\n",
        "  '''\n",
        "  #check if the GW distance for this pair of point clouds is zero!\n",
        "  n_samples = X.shape[0]\n",
        "\n",
        "  #compute pairwise distance for pointclouds X and Y\n",
        "  C1 = sp.spatial.distance.cdist(X, X)\n",
        "  C2 = sp.spatial.distance.cdist(Y, Y)\n",
        "  #normalize the pairwise distance\n",
        "  C1 /= C1.max()\n",
        "  C2 /= C2.max()\n",
        "  #assume uniform distribution on the points\n",
        "  p = ot.unif(n_samples)\n",
        "  q = ot.unif(n_samples)\n",
        "\n",
        "  gw0, log0 = ot.gromov.gromov_wasserstein(\n",
        "      C1, C2, p, q, 'square_loss', symmetric=True, verbose=True, log=True)\n",
        "  \n",
        "  return gw0, log0\n",
        "\n",
        "def plot_GW_transport(gw0, log0):\n",
        "  '''\n",
        "  Input: gw0 - OT transport plan (n by n matrix)\n",
        "  Input: log0 - GW distance\n",
        "  '''\n",
        "  dist = log0['gw_dist']\n",
        "  print(f'Gromov-Wasserstein distances: {dist:.4f}')\n",
        "\n",
        "  plt.figure(1, (10, 5))\n",
        "\n",
        "  plt.subplot(1, 2, 1)\n",
        "  plt.imshow(gw0, cmap='jet')\n",
        "  plt.title('Gromov Wasserstein')\n",
        "  plt.show()"
      ],
      "metadata": {
        "id": "arll6WbKiiJN"
      },
      "execution_count": 10,
      "outputs": []
    },
    {
      "cell_type": "markdown",
      "source": [
        "### Examples from Hordan et al, Pozdnyakove & Ceriotti (2022)\n",
        "\n",
        "- Ours fail (BAD SET EXAMPLES FOUND!)\n",
        "- Question: f* must be summing over all $i \\neq j$? not $i < j$?"
      ],
      "metadata": {
        "id": "efbbWW6mVTIX"
      }
    },
    {
      "cell_type": "markdown",
      "source": [
        "#### Example 1: $n=5, d=3$\n",
        "- Multiset of multiset of distances are the same in $X, Y$\n",
        "- In the family $R^{3\\times n}_{distinct}$\n",
        "- 1-GEO with $1$ iteration fails but $2$ iteration succeed "
      ],
      "metadata": {
        "id": "y5zKXHm_fv-B"
      }
    },
    {
      "cell_type": "code",
      "source": [
        "#here we consider 3D point clouds\n",
        "#Example 1: https://arxiv.org/pdf/2001.11696.pdf, figure S4 - panel A\n",
        "#(x,y,z) 3D coordinates\n",
        "X = np.array([[-2, 0, -2],\n",
        "              [-1, -1, 0],\n",
        "              [0, 1, 1], #the blue dot (special)\n",
        "              [1, 1, 0],\n",
        "              [2, 0, 2]])\n",
        "Y = np.array([[-2, 0, -2],\n",
        "              [-1, -1, 0],\n",
        "              [0, 1, -1], #the flip symmetric blue dot\n",
        "              [1, 1, 0],\n",
        "              [2, 0, 2]])"
      ],
      "metadata": {
        "id": "-x5A49UxVckV"
      },
      "execution_count": 11,
      "outputs": []
    },
    {
      "cell_type": "code",
      "source": [
        "X @ X.T"
      ],
      "metadata": {
        "colab": {
          "base_uri": "https://localhost:8080/"
        },
        "id": "bEqy6HeHWaDE",
        "outputId": "4a69b82a-89e2-421b-fe63-6e18578d747a"
      },
      "execution_count": 12,
      "outputs": [
        {
          "output_type": "execute_result",
          "data": {
            "text/plain": [
              "array([[ 8,  2, -2, -2, -8],\n",
              "       [ 2,  2, -1, -2, -2],\n",
              "       [-2, -1,  2,  1,  2],\n",
              "       [-2, -2,  1,  2,  2],\n",
              "       [-8, -2,  2,  2,  8]])"
            ]
          },
          "metadata": {},
          "execution_count": 12
        }
      ]
    },
    {
      "cell_type": "code",
      "source": [
        "#key diff: row 1, 5 (row 2,3, 4 are the same)\n",
        "#let's hand compute what f* looks like for X\n",
        "8*(-10) + 2 * (-3) + 2 * (0) + 2 * (-1) + 8 * (-6)"
      ],
      "metadata": {
        "colab": {
          "base_uri": "https://localhost:8080/"
        },
        "id": "KR9YcyuobE4C",
        "outputId": "e61003ae-a441-45f8-f904-88bfb9a39b21"
      },
      "execution_count": 13,
      "outputs": [
        {
          "output_type": "execute_result",
          "data": {
            "text/plain": [
              "-136"
            ]
          },
          "metadata": {},
          "execution_count": 13
        }
      ]
    },
    {
      "cell_type": "code",
      "source": [
        "Y @ Y.T"
      ],
      "metadata": {
        "colab": {
          "base_uri": "https://localhost:8080/"
        },
        "id": "x82BPVQrW4Gl",
        "outputId": "58752e77-5b9a-4b96-a7d6-7e375e3821c9"
      },
      "execution_count": 14,
      "outputs": [
        {
          "output_type": "execute_result",
          "data": {
            "text/plain": [
              "array([[ 8,  2,  2, -2, -8],\n",
              "       [ 2,  2, -1, -2, -2],\n",
              "       [ 2, -1,  2,  1, -2],\n",
              "       [-2, -2,  1,  2,  2],\n",
              "       [-8, -2, -2,  2,  8]])"
            ]
          },
          "metadata": {},
          "execution_count": 14
        }
      ]
    },
    {
      "cell_type": "code",
      "source": [
        "#let's hand compute what f* looks like for Y\n",
        "8*(-6) + 2 * (-3) + 2 * (0) + 2* (-1) + 8 * (-10)"
      ],
      "metadata": {
        "colab": {
          "base_uri": "https://localhost:8080/"
        },
        "id": "-5W_kVjUbW5U",
        "outputId": "6eb0b996-f987-42e2-9195-d3ad47d59bd9"
      },
      "execution_count": 15,
      "outputs": [
        {
          "output_type": "execute_result",
          "data": {
            "text/plain": [
              "-136"
            ]
          },
          "metadata": {},
          "execution_count": 15
        }
      ]
    },
    {
      "cell_type": "code",
      "source": [
        "procrustesMatcher(X, Y, decimals=5)"
      ],
      "metadata": {
        "colab": {
          "base_uri": "https://localhost:8080/"
        },
        "id": "E_bFDvOfWQce",
        "outputId": "81b2fab5-998d-480d-caf8-2f47c086b561"
      },
      "execution_count": 16,
      "outputs": [
        {
          "output_type": "execute_result",
          "data": {
            "text/plain": [
              "True"
            ]
          },
          "metadata": {},
          "execution_count": 16
        }
      ]
    },
    {
      "cell_type": "markdown",
      "source": [
        "- Demonstrate how the multiset of multiset of distances is the same for $X$ and $Y$"
      ],
      "metadata": {
        "id": "eyOaktJsiPuy"
      }
    },
    {
      "cell_type": "code",
      "source": [
        "###note but using neighbors' pairwise distance can separate them\n",
        "def pairwise_dist(U):\n",
        "  dist = []\n",
        "  n = U.shape[0]\n",
        "  for i in range(n):\n",
        "    local_dist = np.zeros(n)\n",
        "    for j in range(n):\n",
        "      local_dist[j] = np.linalg.norm(U[i] - U[j])\n",
        "    \n",
        "    dist.append(np.sort(local_dist))\n",
        "  return dist\n",
        "\n",
        "print(np.sort(pairwise_dist(X)))\n",
        "print(np.sort(pairwise_dist(Y)))\n",
        "#note the 1-geo-WL fails (due to same distance degree histogram), \n",
        "#HOWEVER, 2-iterations can separate because\n",
        "#we have access to iterated (distance) degree sequence\n",
        "#AND the each point has a distinct degree(distance) neighborhood (almost like one-hot encoding of each node, \n",
        "#or think about breaking the perfect triangle by three different edge weights)\n",
        "#see Thm 2.1 in Hordan et al."
      ],
      "metadata": {
        "colab": {
          "base_uri": "https://localhost:8080/"
        },
        "id": "TaxExe7-gO3w",
        "outputId": "259fc5bd-b29b-4b65-c5a5-c967470fc5b5"
      },
      "execution_count": 17,
      "outputs": [
        {
          "output_type": "stream",
          "name": "stdout",
          "text": [
            "[[0.     2.4495 3.7417 3.7417 5.6569]\n",
            " [0.     2.4495 2.4495 2.8284 3.7417]\n",
            " [0.     1.4142 2.4495 2.4495 3.7417]\n",
            " [0.     1.4142 2.4495 2.8284 3.7417]\n",
            " [0.     2.4495 2.4495 3.7417 5.6569]]\n",
            "[[0.     2.4495 2.4495 3.7417 5.6569]\n",
            " [0.     2.4495 2.4495 2.8284 3.7417]\n",
            " [0.     1.4142 2.4495 2.4495 3.7417]\n",
            " [0.     1.4142 2.4495 2.8284 3.7417]\n",
            " [0.     2.4495 3.7417 3.7417 5.6569]]\n"
          ]
        }
      ]
    },
    {
      "cell_type": "code",
      "source": [
        "gw1, log1 = compute_GW(X, Y)"
      ],
      "metadata": {
        "colab": {
          "base_uri": "https://localhost:8080/"
        },
        "id": "hlDZ_NlATCds",
        "outputId": "1bffcb17-ad2c-41b9-96ae-9bac99f37e57"
      },
      "execution_count": 18,
      "outputs": [
        {
          "output_type": "stream",
          "name": "stdout",
          "text": [
            "It.  |Loss        |Relative loss|Absolute loss\n",
            "------------------------------------------------\n",
            "    0|1.575214e-01|0.000000e+00|0.000000e+00\n",
            "    1|1.669697e-02|8.434131e+00|1.408245e-01\n",
            "    2|1.669697e-02|0.000000e+00|0.000000e+00\n"
          ]
        }
      ]
    },
    {
      "cell_type": "code",
      "source": [
        "gw1"
      ],
      "metadata": {
        "colab": {
          "base_uri": "https://localhost:8080/"
        },
        "id": "tvuT03Ahbu7I",
        "outputId": "64e84790-abff-4c56-89ab-2fdc20ec7dbb"
      },
      "execution_count": 19,
      "outputs": [
        {
          "output_type": "execute_result",
          "data": {
            "text/plain": [
              "array([[0. , 0. , 0. , 0. , 0.2],\n",
              "       [0. , 0.2, 0. , 0. , 0. ],\n",
              "       [0. , 0. , 0.2, 0. , 0. ],\n",
              "       [0. , 0. , 0. , 0.2, 0. ],\n",
              "       [0.2, 0. , 0. , 0. , 0. ]])"
            ]
          },
          "metadata": {},
          "execution_count": 19
        }
      ]
    },
    {
      "cell_type": "code",
      "source": [
        "plot_GW_transport(gw1, log1)"
      ],
      "metadata": {
        "colab": {
          "base_uri": "https://localhost:8080/",
          "height": 452
        },
        "id": "xiwrcT4XeBad",
        "outputId": "121fab64-20bb-4c0d-f5c7-cf43b908b783"
      },
      "execution_count": null,
      "outputs": [
        {
          "output_type": "stream",
          "name": "stdout",
          "text": [
            "Gromov-Wasserstein distances: 0.0167\n"
          ]
        },
        {
          "output_type": "display_data",
          "data": {
            "text/plain": [
              "<Figure size 1000x500 with 1 Axes>"
            ],
            "image/png": "[encoded data removed]"
          },
          "metadata": {}
        }
      ]
    },
    {
      "cell_type": "markdown",
      "source": [
        "#### Example 2: $n=7, d=3$"
      ],
      "metadata": {
        "id": "kRsalMETf5FJ"
      }
    },
    {
      "cell_type": "code",
      "source": [
        "X2 = np.array([\n",
        "    [-2, 0, -2],\n",
        "    [-1, -1, 0],\n",
        "    [-1, 2, 0],\n",
        "    [0, 0, 1], #the symmetry breaking blue point\n",
        "    [0, 0, -1],\n",
        "    [1, 1, 0],\n",
        "    [1, 2, 0],\n",
        "    [2, 0, 2]\n",
        "])\n",
        "\n",
        "Y2 = np.array([\n",
        "    [-2, 0, -2],\n",
        "    [-1, -1, 0],\n",
        "    [-1, 2, 0],\n",
        "    [0, 0, -1], ##the symmetry breaking blue point\n",
        "    [0, 0, -1],\n",
        "    [1, 1, 0],\n",
        "    [1, 2, 0],\n",
        "    [2, 0, 2]\n",
        "])"
      ],
      "metadata": {
        "id": "lOBBoolcgOl4"
      },
      "execution_count": null,
      "outputs": []
    },
    {
      "cell_type": "code",
      "source": [
        "gw2, log2 = compute_GW(X2, Y2)"
      ],
      "metadata": {
        "colab": {
          "base_uri": "https://localhost:8080/"
        },
        "id": "KNHLtzzChx3l",
        "outputId": "10c802e2-f522-4f5f-f149-edffc87a7bae"
      },
      "execution_count": null,
      "outputs": [
        {
          "output_type": "stream",
          "name": "stdout",
          "text": [
            "It.  |Loss        |Relative loss|Absolute loss\n",
            "------------------------------------------------\n",
            "    0|1.089732e-01|0.000000e+00|0.000000e+00\n",
            "    1|1.785354e-02|5.103729e+00|9.111962e-02\n",
            "    2|1.785354e-02|0.000000e+00|0.000000e+00\n"
          ]
        }
      ]
    },
    {
      "cell_type": "code",
      "source": [
        "print(gw2)"
      ],
      "metadata": {
        "id": "LyGakT_lb55F",
        "outputId": "e9c1cd00-78fe-4e2b-972a-9d9df84fb17c",
        "colab": {
          "base_uri": "https://localhost:8080/"
        }
      },
      "execution_count": null,
      "outputs": [
        {
          "output_type": "stream",
          "name": "stdout",
          "text": [
            "[[0.    0.    0.    0.    0.    0.    0.    0.125]\n",
            " [0.    0.125 0.    0.    0.    0.    0.    0.   ]\n",
            " [0.    0.    0.125 0.    0.    0.    0.    0.   ]\n",
            " [0.    0.    0.    0.125 0.    0.    0.    0.   ]\n",
            " [0.    0.    0.    0.    0.    0.125 0.    0.   ]\n",
            " [0.    0.    0.    0.    0.125 0.    0.    0.   ]\n",
            " [0.    0.    0.    0.    0.    0.    0.125 0.   ]\n",
            " [0.125 0.    0.    0.    0.    0.    0.    0.   ]]\n"
          ]
        }
      ]
    },
    {
      "cell_type": "code",
      "source": [
        "plot_GW_transport(gw2, log2)"
      ],
      "metadata": {
        "colab": {
          "base_uri": "https://localhost:8080/",
          "height": 452
        },
        "id": "lmI-clmBjaJn",
        "outputId": "0c2cdbe1-2ec8-4c80-c75e-f4a55e17b21b"
      },
      "execution_count": null,
      "outputs": [
        {
          "output_type": "stream",
          "name": "stdout",
          "text": [
            "Gromov-Wasserstein distances: 0.0179\n"
          ]
        },
        {
          "output_type": "display_data",
          "data": {
            "text/plain": [
              "<Figure size 1000x500 with 1 Axes>"
            ],
            "image/png": "[encoded data removed]"
          },
          "metadata": {}
        }
      ]
    },
    {
      "cell_type": "markdown",
      "source": [
        "### Benchmark dataset: [QM7b](https://pytorch-geometric.readthedocs.io/en/latest/generated/torch_geometric.datasets.QM7b.html)\n",
        "- Source: https://arxiv.org/pdf/1703.00564.pdf (Table 10)\n",
        "- A collection of 7,211 molecular graphs (i.e., represented as fully connected graphs describing the [Coulomb Matrix](https://singroup.github.io/dscribe/0.3.x/tutorials/coulomb_matrix.html#invariance), a $n \\times n$ symmetric matrix, invariant to translation/rotation, and requires models to be permutation invariant.\n",
        "- Task: predicting electronic\n",
        "properties of these molecule graphs\n",
        "- Note: molecules are graphs with varying sizes (deepset needed, see below)\n",
        "\n"
      ],
      "metadata": {
        "id": "5R-Yq6xXwHRd"
      }
    },
    {
      "cell_type": "code",
      "source": [
        "import os.path as osp \n",
        "import torch \n",
        "from torch_geometric.data import Data, InMemoryDataset\n",
        "from torch_geometric.loader import DataLoader\n",
        "from torch_geometric.datasets import TUDataset, zinc, QM7b\n",
        "from torch_geometric.utils import to_networkx, homophily, erdos_renyi_graph, stochastic_blockmodel_graph, scatter, loop\n",
        "from torch_geometric.nn import GINConv, global_mean_pool, global_add_pool\n",
        "from torch_geometric.nn.aggr import DeepSetsAggregation #key to implement DeepSet input (batch_features, batch_index)\n",
        "from torch_geometric.nn.models import MLP\n",
        "import torch.nn as nn\n",
        "from torch.nn import Linear, Sequential, ReLU, Dropout\n",
        "import torch_geometric.transforms as T\n",
        "import torch.nn.functional as F\n",
        "\n",
        "from sklearn.model_selection import KFold\n",
        "from sklearn.model_selection import train_test_split"
      ],
      "metadata": {
        "id": "bLpdxBHuxE53"
      },
      "execution_count": 6,
      "outputs": []
    },
    {
      "cell_type": "code",
      "source": [
        "#step 1: pre-compute fs in dataset\n",
        "#step 2: modify collate_fn in dataloader to store the edge batch index\n",
        "\n",
        "def get_fs(data):\n",
        "  '''\n",
        "  input: Data (graph) from pytorch geometric dataset\n",
        "    edge_index=[num_edges]\n",
        "    edge_attr=[num_edges]\n",
        "    y=[num_targets]\n",
        "    x=[num_nodes, 1]\n",
        "\n",
        "  output: updated DataBatch with the following additional invariant features\n",
        "   f_d is the set of diagonal edge attributes, \n",
        "   f_o is the set of off-diagonal (upper) edge attributes, \n",
        "   f_star is \\sum_{i \\neq j} X_ii X_ij where X is the n by n edge attribute graph\n",
        "  '''\n",
        "  #get f_d, f_o\n",
        "  loop_mask = data.edge_index[0] == data.edge_index[1]\n",
        "  data.f_d = data.edge_attr[loop_mask].unsqueeze(1)\n",
        "  data.f_o = data.edge_attr[~loop_mask].unsqueeze(1)\n",
        "\n",
        "  #get f_star\n",
        "  sum_fo = scatter(data.edge_attr, data.edge_index[1], dim=0) #sum over rows \n",
        "  data.f_star = (data.f_d.squeeze(1) @ ( sum_fo - data.f_d.squeeze(1))).reshape((1,1))\n",
        "  return data\n"
      ],
      "metadata": {
        "id": "1XYRugSLg3JU"
      },
      "execution_count": 7,
      "outputs": []
    },
    {
      "cell_type": "code",
      "source": [
        "target=1\n",
        "\n",
        "class Univariate(object):\n",
        "    def __call__(self, data):\n",
        "        # Specify target.\n",
        "        data.y = data.y[:, target:(target+1)]\n",
        "        return data\n",
        "\n",
        "path = \"/content/drive/MyDrive/JHU/Group/dataset\"\n",
        "#func = T.Constant()\n",
        "\n",
        "dataset = QM7b(path, pre_transform=get_fs, transform=T.Compose([Univariate()]))\n",
        "dataset.name = \"QM7b\"\n"
      ],
      "metadata": {
        "id": "GWeom70niCpR"
      },
      "execution_count": 8,
      "outputs": []
    },
    {
      "cell_type": "code",
      "source": [
        "dataset[0]"
      ],
      "metadata": {
        "colab": {
          "base_uri": "https://localhost:8080/"
        },
        "id": "nP10-06hltNi",
        "outputId": "865889fb-30a1-4696-cc0e-6e18bfb34bba"
      },
      "execution_count": 9,
      "outputs": [
        {
          "output_type": "execute_result",
          "data": {
            "text/plain": [
              "Data(edge_index=[2, 25], edge_attr=[25], y=[1, 1], f_d=[5, 1], f_o=[20, 1], f_star=[1, 1], num_nodes=5)"
            ]
          },
          "metadata": {},
          "execution_count": 9
        }
      ]
    },
    {
      "cell_type": "code",
      "source": [
        "#try out edge batch\n",
        "loader = DataLoader(dataset, batch_size=2, follow_batch=['f_d', 'f_o']) #add the keys such that we need to create batch index pointers"
      ],
      "metadata": {
        "id": "HfDkhJyAu8h-"
      },
      "execution_count": 68,
      "outputs": []
    },
    {
      "cell_type": "code",
      "source": [
        "for data in loader:\n",
        "  print(data)\n",
        "  break"
      ],
      "metadata": {
        "colab": {
          "base_uri": "https://localhost:8080/"
        },
        "id": "CEEAXlmlvn8Q",
        "outputId": "add46daf-6562-4c08-ab5b-1e6bb837562e"
      },
      "execution_count": 69,
      "outputs": [
        {
          "output_type": "stream",
          "name": "stdout",
          "text": [
            "DataBatch(edge_index=[2, 89], edge_attr=[89], y=[2, 1], f_d=[13], f_d_batch=[13], f_d_ptr=[3], f_o=[76], f_o_batch=[76], f_o_ptr=[3], f_star=[2], num_nodes=13, batch=[13], ptr=[3])\n"
          ]
        }
      ]
    },
    {
      "cell_type": "code",
      "source": [
        "#check QM7b graph size profile\n",
        "sizes = []\n",
        "for data in dataset:\n",
        "  sizes.append(data.num_nodes)\n"
      ],
      "metadata": {
        "id": "UJ8NHd_H1ZTw"
      },
      "execution_count": 131,
      "outputs": []
    },
    {
      "cell_type": "code",
      "source": [
        "plt.hist(sizes)\n",
        "plt.xlabel(\"size of molecules\")\n",
        "plt.title(\"QM7b graph size distribution\")\n",
        "plt.show()"
      ],
      "metadata": {
        "colab": {
          "base_uri": "https://localhost:8080/",
          "height": 472
        },
        "id": "3fhfrgFmkf6n",
        "outputId": "b9c0e583-7e58-43e1-a9c4-6faa6bed145b"
      },
      "execution_count": 132,
      "outputs": [
        {
          "output_type": "display_data",
          "data": {
            "text/plain": [
              "<Figure size 640x480 with 1 Axes>"
            ],
            "image/png": "[encoded data removed]"
          },
          "metadata": {}
        }
      ]
    },
    {
      "cell_type": "markdown",
      "source": [
        "### Model\n",
        "- Invariant feature map/extraction: $X \\to (, \\{f^o \\}, f^*)$\n",
        "- Learn MLP(deep_set_1( $\\{f^d \\}$ , deep_set_2($\\{f^d \\}$), MLP_s($f^*$)), where\n",
        "  - deep_set_i, MLP_s: input_dim = 1, output_dim = hid_dim\n",
        "  - MLP: input_dim = hid_dim + hid_dim + hid_dim, output_dim = num_classes (invariant classification) / 1 (invariant scalar regression)\n",
        "- Deepset, proposed in [Zaheer et al. ](https://arxiv.org/pdf/1703.06114.pdf), can universally approximate continuous functions on sets (where elements are from countable domain), by choosing suitable $\\rho, \\phi$, and maps a input set $X$ via\n",
        "$$\n",
        "\\rho ( \\sum_{x \\in X} \\phi(x) )\n",
        "$$\n",
        "We use the Deepset implementation in Pytorch Geometric, which can apply to batch of sets"
      ],
      "metadata": {
        "id": "wVnZ53JAWJzW"
      }
    },
    {
      "cell_type": "code",
      "source": [
        "class ScalarModel(torch.nn.Module):\n",
        "    def __init__(self, hid_dim, out_dim, dropout=0):\n",
        "        super(ScalarModel, self).__init__()\n",
        "        #Deepset for diagonal scalars\n",
        "        phi_d = MLP([1,hid_dim, hid_dim*2], dropout=[dropout]*2)\n",
        "        rho_d = MLP([hid_dim*2, hid_dim], dropout=[dropout]*1)\n",
        "        self.deepset_d = DeepSetsAggregation(local_nn=phi_d, global_nn=rho_d)\n",
        "        #Deepset for off-diagonal scalars\n",
        "        phi_o = MLP([1,hid_dim, hid_dim*2], dropout=[dropout]*2)\n",
        "        rho_o = MLP([hid_dim*2, hid_dim], dropout=[dropout]*1)\n",
        "        self.deepset_o = DeepSetsAggregation(local_nn=phi_o, global_nn=rho_o) \n",
        "        #MLP_s for f_star\n",
        "        self.MLP_s = MLP([1,hid_dim, hid_dim], dropout=[dropout]*2) \n",
        "        #MLP for (Deepset(f_d), Deepset(f_o), f_star)\n",
        "        self.MLP_out = MLP([hid_dim*3, hid_dim, out_dim], dropout=[dropout]*2)\n",
        "\n",
        "    def reset_parameters(self):\n",
        "        for net in [self.deepset_d, self.deepset_o, self.MLP_s, self.MLP_out]:\n",
        "            net.reset_parameters()\n",
        "    \n",
        "    def forward(self, data):\n",
        "        out_d = self.deepset_d(data.f_d, data.f_d_batch) # bs x hid_dim\n",
        "        out_o = self.deepset_o(data.f_o, data.f_o_batch) # bs x hid_dim\n",
        "        out_star = self.MLP_s(data.f_star) #bs x hid_dim\n",
        "        #concat and output final embedding\n",
        "        out = self.MLP_out(torch.concat([out_d, out_o, out_star], dim=-1)) # bs x hid_dim*3 -> bs x out_dim\n",
        "        return out"
      ],
      "metadata": {
        "id": "-up-LvBGQQE4"
      },
      "execution_count": 11,
      "outputs": []
    },
    {
      "cell_type": "markdown",
      "source": [
        "#### Training"
      ],
      "metadata": {
        "id": "L8o9Z-S0WWON"
      }
    },
    {
      "cell_type": "code",
      "source": [
        "#code adapated from https://github.com/nhuang37/untrain_MPNN/blob/main/GNN_untrained/auxiliarymethods/gnn_evaluation.py\n",
        "\n",
        "def train(train_loader, model, optimizer, device):\n",
        "    model.train()\n",
        "    loss_all = 0\n",
        "\n",
        "    lf = torch.nn.L1Loss()\n",
        "\n",
        "    for data in train_loader:\n",
        "        #print(data)\n",
        "        data = data.to(device)\n",
        "        optimizer.zero_grad()\n",
        "        loss = lf(model(data), data.y)\n",
        "\n",
        "        loss.backward()\n",
        "        loss_all += loss.item() * data.num_graphs\n",
        "        optimizer.step()\n",
        "    return (loss_all / len(train_loader.dataset))\n",
        "\n",
        "\n",
        "def test(loader, model, device):\n",
        "    model.eval()\n",
        "    error = 0\n",
        "\n",
        "    for data in loader:\n",
        "        data = data.to(device)\n",
        "        error += (model(data) - data.y).abs().sum().item()\n",
        "    return error / len(loader.dataset)\n",
        "\n",
        "\n",
        "# 10-CV for NN training and hyperparameter selection.\n",
        "def nn_evaluation(dataset, hid_dim, out_dim, max_num_epochs=200, batch_size=128, start_lr=0.01, min_lr = 0.000001, factor=0.5, patience=50,\n",
        "                       num_repetitions=5, all_std=True, verbose=True, dropout=0):\n",
        "    #reproducibility\n",
        "    torch.manual_seed(0)\n",
        "\n",
        "    # Set device.\n",
        "    device = torch.device('cuda' if torch.cuda.is_available() else 'cpu')\n",
        "\n",
        "    test_all = []\n",
        "    test_complete = []\n",
        "\n",
        "    for i in range(num_repetitions):\n",
        "        # Test acc. over all folds.\n",
        "        test_error = []\n",
        "        kf = KFold(n_splits=10, shuffle=True, random_state=i)\n",
        "        #dataset.shuffle()\n",
        "\n",
        "        for train_index, test_index in kf.split(list(range(len(dataset)))):\n",
        "            # Sample 10% split from training split for validation.\n",
        "            train_index, val_index = train_test_split(train_index, test_size=0.1, random_state=i)\n",
        "            best_val_error = None\n",
        "            best_test = None\n",
        "\n",
        "            # Split data.\n",
        "            train_dataset = dataset[train_index.tolist()]\n",
        "            val_dataset = dataset[val_index.tolist()]\n",
        "            test_dataset = dataset[test_index.tolist()]\n",
        "\n",
        "            # Prepare batching. (follow_batch: batchify both f_d, f_o)\n",
        "            train_loader = DataLoader(train_dataset, batch_size=batch_size, shuffle=True, follow_batch=['f_d', 'f_o'])\n",
        "            val_loader = DataLoader(val_dataset, batch_size=batch_size, shuffle=True, follow_batch=['f_d', 'f_o'])\n",
        "            test_loader = DataLoader(test_dataset, batch_size=batch_size, shuffle=False, follow_batch=['f_d', 'f_o']) #reproducible\n",
        "\n",
        "            # Collect val. and test acc. over all hyperparameter combinations.\n",
        "            # Setup model.\n",
        "            model = ScalarModel(hid_dim, out_dim, dropout).to(device)\n",
        "            model.reset_parameters()\n",
        "\n",
        "            optimizer = torch.optim.Adam(model.parameters(), lr=start_lr)\n",
        "            scheduler = torch.optim.lr_scheduler.ReduceLROnPlateau(optimizer, mode='min',\n",
        "                                                                    factor=factor, patience=patience,\n",
        "                                                                    min_lr=0.0000001)\n",
        "            for epoch in range(1, max_num_epochs + 1):\n",
        "                lr = scheduler.optimizer.param_groups[0]['lr']\n",
        "                loss = train(train_loader, model, optimizer, device)\n",
        "                val_error = test(val_loader, model, device)\n",
        "                scheduler.step(val_error)\n",
        "\n",
        "                if best_val_error is None or val_error <= best_val_error:\n",
        "                    best_val_error = val_error\n",
        "                    best_test = test(test_loader, model, device)\n",
        "                if verbose and (epoch+1) % 50 == 0:\n",
        "                    print('Epoch: {:03d}, LR: {:.7f}, Loss: {:.4f},'\n",
        "                      'Val MAE: {:.4f}'.format(epoch, lr, loss, val_error))\n",
        "                # Break if learning rate is smaller 10**-6.\n",
        "                if lr < min_lr:\n",
        "                    break\n",
        "\n",
        "            test_error.append(best_test)\n",
        "            if all_std:\n",
        "                test_complete.append(best_test)\n",
        "        test_all.append(float(np.array(test_error).mean()))\n",
        "\n",
        "    if all_std:\n",
        "        return (np.array(test_all).mean(), np.array(test_all).std(),\n",
        "                np.array(test_complete).std())\n",
        "    else:\n",
        "        return (np.array(test_all).mean(), np.array(test_all).std())"
      ],
      "metadata": {
        "id": "d2ssWTYuWXO7"
      },
      "execution_count": 14,
      "outputs": []
    },
    {
      "cell_type": "code",
      "source": [
        "hid_dim = 32\n",
        "out_dim = 1\n",
        "dropout = 0\n",
        "\n",
        "mae, std, std_all = nn_evaluation(dataset, hid_dim, out_dim, max_num_epochs=300, batch_size=128, \n",
        "                                  start_lr=0.02, min_lr = 0.000001, factor=0.8, patience=10,\n",
        "                       num_repetitions=1, all_std=True, verbose=True, dropout=dropout)"
      ],
      "metadata": {
        "id": "TdXBMiL6s5bT",
        "colab": {
          "base_uri": "https://localhost:8080/"
        },
        "outputId": "d650a38f-f5d6-4d26-b098-80c08a3523d9"
      },
      "execution_count": 15,
      "outputs": [
        {
          "output_type": "stream",
          "name": "stdout",
          "text": [
            "Epoch: 049, LR: 0.0128000, Loss: 2.0406,Val MAE: 2.3476\n",
            "Epoch: 099, LR: 0.0102400, Loss: 1.9483,Val MAE: 2.6001\n",
            "Epoch: 149, LR: 0.0041943, Loss: 1.8555,Val MAE: 2.2481\n",
            "Epoch: 199, LR: 0.0013744, Loss: 1.8421,Val MAE: 1.8535\n",
            "Epoch: 249, LR: 0.0007037, Loss: 1.8368,Val MAE: 1.7303\n",
            "Epoch: 299, LR: 0.0003603, Loss: 1.8229,Val MAE: 1.7858\n",
            "Epoch: 049, LR: 0.0128000, Loss: 1.9783,Val MAE: 2.0240\n",
            "Epoch: 099, LR: 0.0081920, Loss: 1.9248,Val MAE: 2.0016\n",
            "Epoch: 149, LR: 0.0026844, Loss: 1.8680,Val MAE: 2.4906\n",
            "Epoch: 199, LR: 0.0013744, Loss: 1.8214,Val MAE: 2.1821\n",
            "Epoch: 249, LR: 0.0007037, Loss: 1.8248,Val MAE: 1.8811\n",
            "Epoch: 299, LR: 0.0002882, Loss: 1.8352,Val MAE: 1.7961\n",
            "Epoch: 049, LR: 0.0128000, Loss: 2.0100,Val MAE: 3.1678\n",
            "Epoch: 099, LR: 0.0065536, Loss: 1.9064,Val MAE: 2.0105\n",
            "Epoch: 149, LR: 0.0033554, Loss: 1.8369,Val MAE: 1.8075\n",
            "Epoch: 199, LR: 0.0026844, Loss: 1.8129,Val MAE: 1.9352\n",
            "Epoch: 249, LR: 0.0010995, Loss: 1.7837,Val MAE: 1.7826\n",
            "Epoch: 299, LR: 0.0005629, Loss: 1.7796,Val MAE: 2.1652\n",
            "Epoch: 049, LR: 0.0128000, Loss: 2.0318,Val MAE: 2.9927\n",
            "Epoch: 099, LR: 0.0052429, Loss: 1.9607,Val MAE: 2.1056\n",
            "Epoch: 149, LR: 0.0026844, Loss: 1.9287,Val MAE: 2.3178\n",
            "Epoch: 199, LR: 0.0013744, Loss: 1.9215,Val MAE: 1.9935\n",
            "Epoch: 249, LR: 0.0005629, Loss: 1.9080,Val MAE: 1.9847\n",
            "Epoch: 299, LR: 0.0002882, Loss: 1.9071,Val MAE: 1.9865\n",
            "Epoch: 049, LR: 0.0102400, Loss: 2.0153,Val MAE: 2.3401\n",
            "Epoch: 099, LR: 0.0065536, Loss: 1.9127,Val MAE: 2.9126\n",
            "Epoch: 149, LR: 0.0026844, Loss: 1.8681,Val MAE: 2.5571\n",
            "Epoch: 199, LR: 0.0017180, Loss: 1.8569,Val MAE: 1.9261\n",
            "Epoch: 249, LR: 0.0007037, Loss: 1.8138,Val MAE: 1.9149\n",
            "Epoch: 299, LR: 0.0004504, Loss: 1.8159,Val MAE: 1.8605\n",
            "Epoch: 049, LR: 0.0128000, Loss: 2.0436,Val MAE: 3.1968\n",
            "Epoch: 099, LR: 0.0065536, Loss: 1.9123,Val MAE: 2.7431\n",
            "Epoch: 149, LR: 0.0033554, Loss: 1.7986,Val MAE: 2.8791\n",
            "Epoch: 199, LR: 0.0017180, Loss: 1.7808,Val MAE: 1.7938\n",
            "Epoch: 249, LR: 0.0007037, Loss: 1.7391,Val MAE: 1.6782\n",
            "Epoch: 299, LR: 0.0002882, Loss: 1.7296,Val MAE: 1.7515\n",
            "Epoch: 049, LR: 0.0128000, Loss: 2.0485,Val MAE: 2.9067\n",
            "Epoch: 099, LR: 0.0081920, Loss: 2.0160,Val MAE: 2.2857\n",
            "Epoch: 149, LR: 0.0026844, Loss: 1.9735,Val MAE: 2.2615\n",
            "Epoch: 199, LR: 0.0013744, Loss: 1.9428,Val MAE: 2.0844\n",
            "Epoch: 249, LR: 0.0005629, Loss: 1.9477,Val MAE: 2.0624\n",
            "Epoch: 299, LR: 0.0002882, Loss: 1.9286,Val MAE: 2.0616\n",
            "Epoch: 049, LR: 0.0128000, Loss: 2.0255,Val MAE: 3.0582\n",
            "Epoch: 099, LR: 0.0065536, Loss: 1.9825,Val MAE: 2.1082\n",
            "Epoch: 149, LR: 0.0033554, Loss: 1.9410,Val MAE: 1.9229\n",
            "Epoch: 199, LR: 0.0017180, Loss: 1.9307,Val MAE: 2.2339\n",
            "Epoch: 249, LR: 0.0010995, Loss: 1.9103,Val MAE: 1.9666\n",
            "Epoch: 299, LR: 0.0004504, Loss: 1.8893,Val MAE: 1.9039\n",
            "Epoch: 049, LR: 0.0128000, Loss: 2.0331,Val MAE: 3.1583\n",
            "Epoch: 099, LR: 0.0052429, Loss: 1.9755,Val MAE: 2.3189\n",
            "Epoch: 149, LR: 0.0026844, Loss: 1.9020,Val MAE: 1.9609\n",
            "Epoch: 199, LR: 0.0010995, Loss: 1.8745,Val MAE: 2.1555\n",
            "Epoch: 249, LR: 0.0005629, Loss: 1.8626,Val MAE: 2.1134\n",
            "Epoch: 299, LR: 0.0002882, Loss: 1.8663,Val MAE: 1.8839\n",
            "Epoch: 049, LR: 0.0102400, Loss: 2.0534,Val MAE: 2.3254\n",
            "Epoch: 099, LR: 0.0041943, Loss: 1.9528,Val MAE: 1.9127\n",
            "Epoch: 149, LR: 0.0021475, Loss: 1.9072,Val MAE: 2.6846\n",
            "Epoch: 199, LR: 0.0013744, Loss: 1.8908,Val MAE: 2.0060\n",
            "Epoch: 249, LR: 0.0005629, Loss: 1.8775,Val MAE: 1.9947\n",
            "Epoch: 299, LR: 0.0002306, Loss: 1.8778,Val MAE: 1.8828\n"
          ]
        }
      ]
    },
    {
      "cell_type": "code",
      "source": [
        "print(f\"Target_variable={target}, Test_MAE={mae} (with std={std_all})\")\n",
        "#reference benchmark: Kernel-ridge-regression 1.83; Deep-Tensor-Neural-Network 1.26"
      ],
      "metadata": {
        "colab": {
          "base_uri": "https://localhost:8080/"
        },
        "id": "c3RlxCujBJRi",
        "outputId": "2cec7e42-2246-43ee-d899-98da2fd937a9"
      },
      "execution_count": 16,
      "outputs": [
        {
          "output_type": "stream",
          "name": "stdout",
          "text": [
            "Target_variable=1, Test_MAE=1.8230250762403977 (with std=0.0913251640471234)\n"
          ]
        }
      ]
    },
    {
      "cell_type": "code",
      "source": [],
      "metadata": {
        "id": "dF-FLdvGIJp5"
      },
      "execution_count": null,
      "outputs": []
    },
    {
      "cell_type": "markdown",
      "source": [
        "### Benchmark dataset: ModelNet40\n",
        "- The most popular dataset for pointcloud classification\n",
        "- Can benchmark against Deepset and PointNet (old SOTA models): e,g, https://github.com/manzilzaheer/DeepSets/blob/master/PointClouds/run.py\n",
        "- BUG: relatively large point clouds, our methods need $O(n^2)$ computation whereas Deepset/PointNet can do $O(n)$ (since the point clouds literally live in $d=3$)"
      ],
      "metadata": {
        "id": "iFdxli69QGTP"
      }
    },
    {
      "cell_type": "code",
      "source": [],
      "metadata": {
        "id": "hfxM83KR7bCp"
      },
      "execution_count": null,
      "outputs": []
    }
  ]
}